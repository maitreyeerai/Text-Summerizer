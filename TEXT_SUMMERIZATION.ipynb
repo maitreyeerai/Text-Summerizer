{
  "nbformat": 4,
  "nbformat_minor": 0,
  "metadata": {
    "colab": {
      "provenance": []
    },
    "language_info": {
      "name": "python",
      "version": "3.6.4",
      "mimetype": "text/x-python",
      "codemirror_mode": {
        "name": "ipython",
        "version": 3
      },
      "pygments_lexer": "ipython3",
      "nbconvert_exporter": "python",
      "file_extension": ".py"
    },
    "kernelspec": {
      "display_name": "Python 3",
      "language": "python",
      "name": "python3"
    },
    "accelerator": "GPU",
    "gpuClass": "standard"
  },
  "cells": [
    {
      "cell_type": "markdown",
      "metadata": {
        "id": "5Vk4T5DP7HBP"
      },
      "source": [
        "\n",
        "**TEXT SUMMERIZER**\n"
      ]
    },
    {
      "cell_type": "markdown",
      "source": [
        "**Objective**: Summarizing long descriptive customer reviews from Amazon which will save time for analysis of the product."
      ],
      "metadata": {
        "id": "piy_RAjnCZIS"
      }
    },
    {
      "cell_type": "markdown",
      "source": [
        "Dataset: https://www.kaggle.com/datasets/snap/amazon-fine-food-reviews"
      ],
      "metadata": {
        "id": "o4UTpQZsCaEm"
      }
    },
    {
      "cell_type": "markdown",
      "source": [
        "* Importing the libraries"
      ],
      "metadata": {
        "id": "S5FJT_JFChp0"
      }
    },
    {
      "cell_type": "code",
      "metadata": {
        "_uuid": "8f2839f25d086af736a60e9eeb907d3b93b6e0e5",
        "_cell_guid": "b1076dfc-b9ad-4769-8c92-a6c4dae69d19",
        "trusted": true,
        "id": "_Jpu8qLEFxcY"
      },
      "source": [
        "import numpy as np\n",
        "import pandas as pd \n",
        "import re\n",
        "from bs4 import BeautifulSoup\n",
        "from keras.preprocessing.text import Tokenizer \n",
        "from keras_preprocessing.sequence import pad_sequences\n",
        "from nltk.corpus import stopwords\n",
        "from tensorflow.keras.layers import Input, LSTM, Embedding, Dense, Concatenate, TimeDistributed\n",
        "from tensorflow.keras.models import Model\n",
        "from tensorflow.keras.callbacks import EarlyStopping\n",
        "import warnings\n",
        "pd.set_option(\"display.max_colwidth\", 200)\n",
        "warnings.filterwarnings(\"ignore\")"
      ],
      "execution_count": null,
      "outputs": []
    },
    {
      "cell_type": "markdown",
      "source": [
        "* Reading the dataset"
      ],
      "metadata": {
        "id": "AfA0_ob5CmWZ"
      }
    },
    {
      "cell_type": "code",
      "source": [
        "data=pd.read_csv(\"Reviews.csv\",nrows=150000)\n",
        "\n",
        "data.drop_duplicates(subset=['Text'],inplace=True)  #dropping duplicates\n",
        "data.dropna(axis=0,inplace=True)   #dropping null rows"
      ],
      "metadata": {
        "id": "nCmAFiAU0k-z"
      },
      "execution_count": null,
      "outputs": []
    },
    {
      "cell_type": "code",
      "metadata": {
        "trusted": true,
        "id": "__fy-JxTFxc9",
        "colab": {
          "base_uri": "https://localhost:8080/"
        },
        "outputId": "3d6260d6-d1ed-464b-e413-6e74615cf43d"
      },
      "source": [
        "data.info()"
      ],
      "execution_count": null,
      "outputs": [
        {
          "output_type": "stream",
          "name": "stdout",
          "text": [
            "<class 'pandas.core.frame.DataFrame'>\n",
            "Int64Index: 127538 entries, 0 to 149937\n",
            "Data columns (total 10 columns):\n",
            " #   Column                  Non-Null Count   Dtype \n",
            "---  ------                  --------------   ----- \n",
            " 0   Id                      127538 non-null  int64 \n",
            " 1   ProductId               127538 non-null  object\n",
            " 2   UserId                  127538 non-null  object\n",
            " 3   ProfileName             127538 non-null  object\n",
            " 4   HelpfulnessNumerator    127538 non-null  int64 \n",
            " 5   HelpfulnessDenominator  127538 non-null  int64 \n",
            " 6   Score                   127538 non-null  int64 \n",
            " 7   Time                    127538 non-null  int64 \n",
            " 8   Summary                 127538 non-null  object\n",
            " 9   Text                    127538 non-null  object\n",
            "dtypes: int64(5), object(5)\n",
            "memory usage: 10.7+ MB\n"
          ]
        }
      ]
    },
    {
      "cell_type": "markdown",
      "source": [
        "* Preprocessing"
      ],
      "metadata": {
        "id": "6tPs0T1iCsp1"
      }
    },
    {
      "cell_type": "code",
      "metadata": {
        "trusted": true,
        "id": "0s6IY-x2FxdL"
      },
      "source": [
        "contraction_mapping = {\"ain't\": \"is not\", \"aren't\": \"are not\",\"can't\": \"cannot\", \"'cause\": \"because\", \"could've\": \"could have\", \"couldn't\": \"could not\",\n",
        "                           \"didn't\": \"did not\",  \"doesn't\": \"does not\", \"don't\": \"do not\", \"hadn't\": \"had not\", \"hasn't\": \"has not\", \"haven't\": \"have not\",\n",
        "                           \"he'd\": \"he would\",\"he'll\": \"he will\", \"he's\": \"he is\", \"how'd\": \"how did\", \"how'd'y\": \"how do you\", \"how'll\": \"how will\", \"how's\": \"how is\",\n",
        "                           \"I'd\": \"I would\", \"I'd've\": \"I would have\", \"I'll\": \"I will\", \"I'll've\": \"I will have\",\"I'm\": \"I am\", \"I've\": \"I have\", \"i'd\": \"i would\",\n",
        "                           \"i'd've\": \"i would have\", \"i'll\": \"i will\",  \"i'll've\": \"i will have\",\"i'm\": \"i am\", \"i've\": \"i have\", \"isn't\": \"is not\", \"it'd\": \"it would\",\n",
        "                           \"it'd've\": \"it would have\", \"it'll\": \"it will\", \"it'll've\": \"it will have\",\"it's\": \"it is\", \"let's\": \"let us\", \"ma'am\": \"madam\",\n",
        "                           \"mayn't\": \"may not\", \"might've\": \"might have\",\"mightn't\": \"might not\",\"mightn't've\": \"might not have\", \"must've\": \"must have\",\n",
        "                           \"mustn't\": \"must not\", \"mustn't've\": \"must not have\", \"needn't\": \"need not\", \"needn't've\": \"need not have\",\"o'clock\": \"of the clock\",\n",
        "                           \"oughtn't\": \"ought not\", \"oughtn't've\": \"ought not have\", \"shan't\": \"shall not\", \"sha'n't\": \"shall not\", \"shan't've\": \"shall not have\",\n",
        "                           \"she'd\": \"she would\", \"she'd've\": \"she would have\", \"she'll\": \"she will\", \"she'll've\": \"she will have\", \"she's\": \"she is\",\n",
        "                           \"should've\": \"should have\", \"shouldn't\": \"should not\", \"shouldn't've\": \"should not have\", \"so've\": \"so have\",\"so's\": \"so as\",\n",
        "                           \"this's\": \"this is\",\"that'd\": \"that would\", \"that'd've\": \"that would have\", \"that's\": \"that is\", \"there'd\": \"there would\",\n",
        "                           \"there'd've\": \"there would have\", \"there's\": \"there is\", \"here's\": \"here is\",\"they'd\": \"they would\", \"they'd've\": \"they would have\",\n",
        "                           \"they'll\": \"they will\", \"they'll've\": \"they will have\", \"they're\": \"they are\", \"they've\": \"they have\", \"to've\": \"to have\",\n",
        "                           \"wasn't\": \"was not\", \"we'd\": \"we would\", \"we'd've\": \"we would have\", \"we'll\": \"we will\", \"we'll've\": \"we will have\", \"we're\": \"we are\",\n",
        "                           \"we've\": \"we have\", \"weren't\": \"were not\", \"what'll\": \"what will\", \"what'll've\": \"what will have\", \"what're\": \"what are\",\n",
        "                           \"what's\": \"what is\", \"what've\": \"what have\", \"when's\": \"when is\", \"when've\": \"when have\", \"where'd\": \"where did\", \"where's\": \"where is\",\n",
        "                           \"where've\": \"where have\", \"who'll\": \"who will\", \"who'll've\": \"who will have\", \"who's\": \"who is\", \"who've\": \"who have\",\n",
        "                           \"why's\": \"why is\", \"why've\": \"why have\", \"will've\": \"will have\", \"won't\": \"will not\", \"won't've\": \"will not have\",\n",
        "                           \"would've\": \"would have\", \"wouldn't\": \"would not\", \"wouldn't've\": \"would not have\", \"y'all\": \"you all\",\n",
        "                           \"y'all'd\": \"you all would\",\"y'all'd've\": \"you all would have\",\"y'all're\": \"you all are\",\"y'all've\": \"you all have\",\n",
        "                           \"you'd\": \"you would\", \"you'd've\": \"you would have\", \"you'll\": \"you will\", \"you'll've\": \"you will have\",\n",
        "                           \"you're\": \"you are\", \"you've\": \"you have\"}"
      ],
      "execution_count": null,
      "outputs": []
    },
    {
      "cell_type": "code",
      "source": [
        "import nltk\n",
        "nltk.download('stopwords')"
      ],
      "metadata": {
        "colab": {
          "base_uri": "https://localhost:8080/"
        },
        "id": "9UeVE2721cCD",
        "outputId": "4151b522-0668-48ac-9322-83e14b9940c1"
      },
      "execution_count": null,
      "outputs": [
        {
          "output_type": "stream",
          "name": "stderr",
          "text": [
            "[nltk_data] Downloading package stopwords to /root/nltk_data...\n",
            "[nltk_data]   Unzipping corpora/stopwords.zip.\n"
          ]
        },
        {
          "output_type": "execute_result",
          "data": {
            "text/plain": [
              "True"
            ]
          },
          "metadata": {},
          "execution_count": 10
        }
      ]
    },
    {
      "cell_type": "code",
      "metadata": {
        "trusted": true,
        "id": "XZr-u3OEFxdT"
      },
      "source": [
        "stop_words = set(stopwords.words('english')) \n",
        "\n",
        "def text_cleaner(text,num):\n",
        "    newString = text.lower() #converting everything to lowercase\n",
        "    newString = BeautifulSoup(newString, \"lxml\").text #removing html tags\n",
        "    newString = re.sub(r'\\([^)]*\\)', '', newString) #removing parenthesis\n",
        "    newString = re.sub('\"','', newString) #removing quotation marks\n",
        "    newString = ' '.join([contraction_mapping[t] if t in contraction_mapping else t for t in newString.split(\" \")])  #contraction mapping\n",
        "    newString = re.sub(r\"'s\\b\",\"\",newString) #removing 's\n",
        "    newString = re.sub(\"[^a-zA-Z]\", \" \", newString) #removing punctuation and special characters\n",
        "    newString = re.sub('[m]{2,}', 'mm', newString)\n",
        "    if(num==0):\n",
        "        tokens = [w for w in newString.split() if not w in stop_words]\n",
        "    else:\n",
        "        tokens=newString.split()\n",
        "    long_words=[]\n",
        "    for i in tokens:\n",
        "        if len(i)>1:                                                 #removing short word\n",
        "            long_words.append(i)   \n",
        "    return (\" \".join(long_words)).strip()"
      ],
      "execution_count": null,
      "outputs": []
    },
    {
      "cell_type": "code",
      "metadata": {
        "trusted": true,
        "id": "A2QAeCHWFxdY"
      },
      "source": [
        "cleaned_text = []\n",
        "for t in data['Text']:\n",
        "    cleaned_text.append(text_cleaner(t,0)) "
      ],
      "execution_count": null,
      "outputs": []
    },
    {
      "cell_type": "code",
      "metadata": {
        "trusted": true,
        "id": "NCAIkhWbFxdh",
        "colab": {
          "base_uri": "https://localhost:8080/"
        },
        "outputId": "f39d82b3-89ba-4156-bc9f-5efd5ecc70ab"
      },
      "source": [
        "cleaned_text[:5]  "
      ],
      "execution_count": null,
      "outputs": [
        {
          "output_type": "execute_result",
          "data": {
            "text/plain": [
              "['bought several vitality canned dog food products found good quality product looks like stew processed meat smells better labrador finicky appreciates product better',\n",
              " 'product arrived labeled jumbo salted peanuts peanuts actually small sized unsalted sure error vendor intended represent product jumbo',\n",
              " 'confection around centuries light pillowy citrus gelatin nuts case filberts cut tiny squares liberally coated powdered sugar tiny mouthful heaven chewy flavorful highly recommend yummy treat familiar story lewis lion witch wardrobe treat seduces edmund selling brother sisters witch',\n",
              " 'looking secret ingredient robitussin believe found got addition root beer extract ordered made cherry soda flavor medicinal',\n",
              " 'great taffy great price wide assortment yummy taffy delivery quick taffy lover deal']"
            ]
          },
          "metadata": {},
          "execution_count": 13
        }
      ]
    },
    {
      "cell_type": "code",
      "metadata": {
        "trusted": true,
        "id": "GsRXocxoFxd-"
      },
      "source": [
        "cleaned_summary = []\n",
        "for t in data['Summary']:\n",
        "    cleaned_summary.append(text_cleaner(t,1))"
      ],
      "execution_count": null,
      "outputs": []
    },
    {
      "cell_type": "code",
      "metadata": {
        "trusted": true,
        "id": "jQJdZcAzFxee",
        "colab": {
          "base_uri": "https://localhost:8080/"
        },
        "outputId": "64ff7cf0-77d8-4166-e23a-e8f2b3b6d663"
      },
      "source": [
        "cleaned_summary[:5]"
      ],
      "execution_count": null,
      "outputs": [
        {
          "output_type": "execute_result",
          "data": {
            "text/plain": [
              "['good quality dog food',\n",
              " 'not as advertised',\n",
              " 'delight says it all',\n",
              " 'cough medicine',\n",
              " 'great taffy']"
            ]
          },
          "metadata": {},
          "execution_count": 15
        }
      ]
    },
    {
      "cell_type": "code",
      "metadata": {
        "trusted": true,
        "id": "L1zLpnqsFxey"
      },
      "source": [
        "data['cleaned_text']=cleaned_text\n",
        "data['cleaned_summary']=cleaned_summary"
      ],
      "execution_count": null,
      "outputs": []
    },
    {
      "cell_type": "code",
      "metadata": {
        "trusted": true,
        "id": "sYK390unFxfA"
      },
      "source": [
        "data.replace('', np.nan, inplace=True)\n",
        "data.dropna(axis=0,inplace=True)"
      ],
      "execution_count": null,
      "outputs": []
    },
    {
      "cell_type": "markdown",
      "source": [
        "- Analyzing the distribution of sequences to get the maximum length of the sequence"
      ],
      "metadata": {
        "id": "BpjeKRu3CyAM"
      }
    },
    {
      "cell_type": "code",
      "metadata": {
        "trusted": true,
        "id": "MdF76AHHFxgw",
        "colab": {
          "base_uri": "https://localhost:8080/",
          "height": 281
        },
        "outputId": "a7c567a6-e483-4e70-eb42-4309f1c05c0c"
      },
      "source": [
        "import matplotlib.pyplot as plt\n",
        "\n",
        "text_word_count = []\n",
        "summary_word_count = []\n",
        "\n",
        "# populating the lists with sentence lengths\n",
        "for i in data['cleaned_text']:\n",
        "      text_word_count.append(len(i.split()))\n",
        "\n",
        "for i in data['cleaned_summary']:\n",
        "      summary_word_count.append(len(i.split()))\n",
        "\n",
        "length_df = pd.DataFrame({'text':text_word_count, 'summary':summary_word_count})\n",
        "\n",
        "length_df.hist(bins = 30)\n",
        "plt.show()"
      ],
      "execution_count": null,
      "outputs": [
        {
          "output_type": "display_data",
          "data": {
            "text/plain": [
              "<Figure size 432x288 with 2 Axes>"
            ],
            "image/png": "[encoded data removed]"
          },
          "metadata": {
            "needs_background": "light"
          }
        }
      ]
    },
    {
      "cell_type": "code",
      "metadata": {
        "trusted": true,
        "id": "7JRjwdIOFxg3",
        "colab": {
          "base_uri": "https://localhost:8080/"
        },
        "outputId": "2708dfb3-f791-4e79-c9e8-73d928a5fe54"
      },
      "source": [
        "cnt=0\n",
        "for i in data['cleaned_summary']:\n",
        "    if(len(i.split())<=8):\n",
        "        cnt=cnt+1\n",
        "print(cnt/len(data['cleaned_summary']))"
      ],
      "execution_count": null,
      "outputs": [
        {
          "output_type": "stream",
          "name": "stdout",
          "text": [
            "0.9428853941049063\n"
          ]
        }
      ]
    },
    {
      "cell_type": "code",
      "metadata": {
        "trusted": true,
        "id": "ZKD5VOWqFxhC"
      },
      "source": [
        "max_text_len=30\n",
        "max_summary_len=8 #94% of the summaries have length below 8. So fixing maximum length of summary to 8."
      ],
      "execution_count": null,
      "outputs": []
    },
    {
      "cell_type": "code",
      "metadata": {
        "trusted": true,
        "id": "yY0tEJP0FxhI"
      },
      "source": [
        "#selecting the reviews and summaries whose length falls below or equal to max_text_len and max_summary_len\n",
        "\n",
        "cleaned_text =np.array(data['cleaned_text'])\n",
        "cleaned_summary=np.array(data['cleaned_summary'])\n",
        "\n",
        "short_text=[]\n",
        "short_summary=[]\n",
        "\n",
        "for i in range(len(cleaned_text)):\n",
        "    if(len(cleaned_summary[i].split())<=max_summary_len and len(cleaned_text[i].split())<=max_text_len):\n",
        "        short_text.append(cleaned_text[i])\n",
        "        short_summary.append(cleaned_summary[i])\n",
        "        \n",
        "df=pd.DataFrame({'text':short_text,'summary':short_summary})"
      ],
      "execution_count": null,
      "outputs": []
    },
    {
      "cell_type": "code",
      "metadata": {
        "trusted": true,
        "id": "EwLUH78CFxhg"
      },
      "source": [
        "#adding the START (sostok) and END (eostok) tokens at the beginning and end of summary\n",
        "\n",
        "df['summary'] = df['summary'].apply(lambda x : 'sostok '+ x + ' eostok')"
      ],
      "execution_count": null,
      "outputs": []
    },
    {
      "cell_type": "code",
      "metadata": {
        "trusted": true,
        "id": "RakakKHcFxhl"
      },
      "source": [
        "#90-train, 10-test\n",
        "\n",
        "from sklearn.model_selection import train_test_split\n",
        "x_tr,x_val,y_tr,y_val=train_test_split(np.array(df['text']),np.array(df['summary']),test_size=0.1,random_state=0,shuffle=True) "
      ],
      "execution_count": null,
      "outputs": []
    },
    {
      "cell_type": "markdown",
      "source": [
        "* Preparing tokenizer"
      ],
      "metadata": {
        "id": "2wbSqZFVD_N3"
      }
    },
    {
      "cell_type": "markdown",
      "source": [
        "For text"
      ],
      "metadata": {
        "id": "BppqFUTxEmsi"
      }
    },
    {
      "cell_type": "code",
      "metadata": {
        "trusted": true,
        "id": "oRHTgX6hFxhq"
      },
      "source": [
        "#preparing a tokenizer for reviews on training data\n",
        "x_tokenizer = Tokenizer() \n",
        "x_tokenizer.fit_on_texts(list(x_tr))"
      ],
      "execution_count": null,
      "outputs": []
    },
    {
      "cell_type": "code",
      "metadata": {
        "trusted": true,
        "id": "y8KronV2Fxhx",
        "colab": {
          "base_uri": "https://localhost:8080/"
        },
        "outputId": "95e609bb-deec-43eb-dc50-34671e82b2a6"
      },
      "source": [
        "#ananlysing rare words \n",
        "\n",
        "thresh=4 #word whose count is below 4 is considered as a rare word\n",
        "\n",
        "cnt=0\n",
        "tot_cnt=0\n",
        "freq=0\n",
        "tot_freq=0\n",
        "\n",
        "for key,value in x_tokenizer.word_counts.items():\n",
        "    tot_cnt=tot_cnt+1\n",
        "    tot_freq=tot_freq+value\n",
        "    if(value<thresh):\n",
        "        cnt=cnt+1\n",
        "        freq=freq+value\n",
        "    \n",
        "print(\"% of rare words in vocabulary:\",(cnt/tot_cnt)*100)\n",
        "print(\"Total Coverage of rare words:\",(freq/tot_freq)*100)"
      ],
      "execution_count": null,
      "outputs": [
        {
          "output_type": "stream",
          "name": "stdout",
          "text": [
            "% of rare words in vocabulary: 66.35653267995497\n",
            "Total Coverage of rare words: 2.4443049133502974\n"
          ]
        }
      ]
    },
    {
      "cell_type": "code",
      "metadata": {
        "trusted": true,
        "id": "J2giEsF3Fxh3"
      },
      "source": [
        "#preparing a tokenizer for reviews on training data\n",
        "x_tokenizer = Tokenizer(num_words=tot_cnt-cnt)  #tot_cnt - cnt gives the top most common words\n",
        "x_tokenizer.fit_on_texts(list(x_tr))\n",
        "\n",
        "#converting text sequences into integer sequences\n",
        "x_tr_seq = x_tokenizer.texts_to_sequences(x_tr) \n",
        "x_val_seq = x_tokenizer.texts_to_sequences(x_val)\n",
        "\n",
        "#padding zero upto maximum length\n",
        "x_tr = pad_sequences(x_tr_seq,  maxlen=max_text_len, padding='post')\n",
        "x_val = pad_sequences(x_val_seq, maxlen=max_text_len, padding='post')\n",
        "\n",
        "#size of vocabulary ( +1 for padding token)\n",
        "x_voc = x_tokenizer.num_words + 1"
      ],
      "execution_count": null,
      "outputs": []
    },
    {
      "cell_type": "code",
      "metadata": {
        "trusted": true,
        "id": "DCbGMsm4FxiA",
        "colab": {
          "base_uri": "https://localhost:8080/"
        },
        "outputId": "2cdc4494-1083-4b84-8968-eb1c4fde9963"
      },
      "source": [
        "x_voc"
      ],
      "execution_count": null,
      "outputs": [
        {
          "output_type": "execute_result",
          "data": {
            "text/plain": [
              "10162"
            ]
          },
          "metadata": {},
          "execution_count": 27
        }
      ]
    },
    {
      "cell_type": "markdown",
      "source": [
        "For summary"
      ],
      "metadata": {
        "id": "Ma7Zgj_aEkpv"
      }
    },
    {
      "cell_type": "code",
      "metadata": {
        "trusted": true,
        "id": "eRHqyBkBFxiJ"
      },
      "source": [
        "#preparing a tokenizer for reviews on training data\n",
        "y_tokenizer = Tokenizer()   \n",
        "y_tokenizer.fit_on_texts(list(y_tr))"
      ],
      "execution_count": null,
      "outputs": []
    },
    {
      "cell_type": "code",
      "metadata": {
        "trusted": true,
        "id": "yzE5OiRLFxiM",
        "colab": {
          "base_uri": "https://localhost:8080/"
        },
        "outputId": "58cdd86b-e7f6-4238-dc0b-b6a655151cb5"
      },
      "source": [
        "#ananlysing rare words \n",
        "\n",
        "thresh=6 #word whose count is below 6 is considered as a rare word\n",
        "\n",
        "cnt=0\n",
        "tot_cnt=0\n",
        "freq=0\n",
        "tot_freq=0\n",
        "\n",
        "for key,value in y_tokenizer.word_counts.items():\n",
        "    tot_cnt=tot_cnt+1\n",
        "    tot_freq=tot_freq+value\n",
        "    if(value<thresh):\n",
        "        cnt=cnt+1\n",
        "        freq=freq+value\n",
        "    \n",
        "print(\"% of rare words in vocabulary:\",(cnt/tot_cnt)*100)\n",
        "print(\"Total Coverage of rare words:\",(freq/tot_freq)*100)"
      ],
      "execution_count": null,
      "outputs": [
        {
          "output_type": "stream",
          "name": "stdout",
          "text": [
            "% of rare words in vocabulary: 77.51875669882101\n",
            "Total Coverage of rare words: 4.480062839012141\n"
          ]
        }
      ]
    },
    {
      "cell_type": "code",
      "metadata": {
        "trusted": true,
        "id": "-fswLvIgFxiR"
      },
      "source": [
        "#preparing a tokenizer for reviews on training data\n",
        "y_tokenizer = Tokenizer(num_words=tot_cnt-cnt) \n",
        "y_tokenizer.fit_on_texts(list(y_tr))\n",
        "\n",
        "#converting text sequences into integer sequences\n",
        "y_tr_seq = y_tokenizer.texts_to_sequences(y_tr) \n",
        "y_val_seq = y_tokenizer.texts_to_sequences(y_val) \n",
        "\n",
        "#padding zero upto maximum length\n",
        "y_tr = pad_sequences(y_tr_seq, maxlen=max_summary_len, padding='post')\n",
        "y_val = pad_sequences(y_val_seq, maxlen=max_summary_len, padding='post')\n",
        "\n",
        "#size of vocabulary\n",
        "y_voc = y_tokenizer.num_words +1"
      ],
      "execution_count": null,
      "outputs": []
    },
    {
      "cell_type": "code",
      "metadata": {
        "trusted": true,
        "id": "pR8IX9FRFxiY",
        "colab": {
          "base_uri": "https://localhost:8080/"
        },
        "outputId": "e99a7982-9bbd-4509-f884-b334a197c343"
      },
      "source": [
        "y_tokenizer.word_counts['sostok'],len(y_tr)   #checking if word count of start token is equal to length of the training data"
      ],
      "execution_count": null,
      "outputs": [
        {
          "output_type": "execute_result",
          "data": {
            "text/plain": [
              "(61683, 61683)"
            ]
          },
          "metadata": {},
          "execution_count": 31
        }
      ]
    },
    {
      "cell_type": "code",
      "metadata": {
        "trusted": true,
        "id": "kZ-vW82sFxih"
      },
      "source": [
        "#deleting rows that contain ony start and end tokens\n",
        "\n",
        "ind=[]\n",
        "for i in range(len(y_tr)):\n",
        "    cnt=0\n",
        "    for j in y_tr[i]:\n",
        "        if j!=0:\n",
        "            cnt=cnt+1\n",
        "    if(cnt==2):\n",
        "        ind.append(i)\n",
        "\n",
        "y_tr=np.delete(y_tr,ind, axis=0)\n",
        "x_tr=np.delete(x_tr,ind, axis=0)"
      ],
      "execution_count": null,
      "outputs": []
    },
    {
      "cell_type": "code",
      "metadata": {
        "trusted": true,
        "id": "cx5NISuMFxik"
      },
      "source": [
        "#deleting rows that contain ony start and end tokens\n",
        "\n",
        "ind=[]\n",
        "for i in range(len(y_val)):\n",
        "    cnt=0\n",
        "    for j in y_val[i]:\n",
        "        if j!=0:\n",
        "            cnt=cnt+1\n",
        "    if(cnt==2):\n",
        "        ind.append(i)\n",
        "\n",
        "y_val=np.delete(y_val,ind, axis=0)\n",
        "x_val=np.delete(x_val,ind, axis=0)"
      ],
      "execution_count": null,
      "outputs": []
    },
    {
      "cell_type": "markdown",
      "source": [
        "* Building the model"
      ],
      "metadata": {
        "id": "YKg_21Y8EPGR"
      }
    },
    {
      "cell_type": "markdown",
      "source": [
        "- Attention Layer (third party implementation)"
      ],
      "metadata": {
        "id": "e7Q_kDLfEWVp"
      }
    },
    {
      "cell_type": "code",
      "execution_count": null,
      "metadata": {
        "id": "xkgQCXzAcgN1"
      },
      "outputs": [],
      "source": [
        "import tensorflow as tf\n",
        "from tensorflow.python.keras import backend as K\n",
        "\n",
        "logger = tf.get_logger()\n",
        "\n",
        "class AttentionLayer(tf.keras.layers.Layer):\n",
        "    \"\"\"\n",
        "    This class implements Bahdanau attention (https://arxiv.org/pdf/1409.0473.pdf).\n",
        "    There are three sets of weights introduced W_a, U_a, and V_a\n",
        "     \"\"\"\n",
        "\n",
        "    def __init__(self, **kwargs):\n",
        "        super(AttentionLayer, self).__init__(**kwargs)\n",
        "\n",
        "    def build(self, input_shape):\n",
        "        assert isinstance(input_shape, list)\n",
        "        # Create a trainable weight variable for this layer.\n",
        "\n",
        "        self.W_a = self.add_weight(name='W_a',\n",
        "                                   shape=tf.TensorShape((input_shape[0][2], input_shape[0][2])),\n",
        "                                   initializer='uniform',\n",
        "                                   trainable=True)\n",
        "        self.U_a = self.add_weight(name='U_a',\n",
        "                                   shape=tf.TensorShape((input_shape[1][2], input_shape[0][2])),\n",
        "                                   initializer='uniform',\n",
        "                                   trainable=True)\n",
        "        self.V_a = self.add_weight(name='V_a',\n",
        "                                   shape=tf.TensorShape((input_shape[0][2], 1)),\n",
        "                                   initializer='uniform',\n",
        "                                   trainable=True)\n",
        "\n",
        "        super(AttentionLayer, self).build(input_shape)  # Be sure to call this at the end\n",
        "\n",
        "    def call(self, inputs):\n",
        "        \"\"\"\n",
        "        inputs: [encoder_output_sequence, decoder_output_sequence]\n",
        "        \"\"\"\n",
        "        assert type(inputs) == list\n",
        "        encoder_out_seq, decoder_out_seq = inputs\n",
        "\n",
        "        logger.debug(f\"encoder_out_seq.shape = {encoder_out_seq.shape}\")\n",
        "        logger.debug(f\"decoder_out_seq.shape = {decoder_out_seq.shape}\")\n",
        "\n",
        "        def energy_step(inputs, states):\n",
        "            \"\"\" Step function for computing energy for a single decoder state\n",
        "            inputs: (batchsize * 1 * de_in_dim)\n",
        "            states: (batchsize * 1 * de_latent_dim)\n",
        "            \"\"\"\n",
        "\n",
        "            logger.debug(\"Running energy computation step\")\n",
        "\n",
        "            if not isinstance(states, (list, tuple)):\n",
        "                raise TypeError(f\"States must be an iterable. Got {states} of type {type(states)}\")\n",
        "\n",
        "            encoder_full_seq = states[-1]\n",
        "\n",
        "            \"\"\" Computing S.Wa where S=[s0, s1, ..., si]\"\"\"\n",
        "            # <= batch size * en_seq_len * latent_dim\n",
        "            W_a_dot_s = K.dot(encoder_full_seq, self.W_a)\n",
        "\n",
        "            \"\"\" Computing hj.Ua \"\"\"\n",
        "            U_a_dot_h = K.expand_dims(K.dot(inputs, self.U_a), 1)  # <= batch_size, 1, latent_dim\n",
        "\n",
        "            logger.debug(f\"U_a_dot_h.shape = {U_a_dot_h.shape}\")\n",
        "\n",
        "            \"\"\" tanh(S.Wa + hj.Ua) \"\"\"\n",
        "            # <= batch_size*en_seq_len, latent_dim\n",
        "            Ws_plus_Uh = K.tanh(W_a_dot_s + U_a_dot_h)\n",
        "\n",
        "            logger.debug(f\"Ws_plus_Uh.shape = {Ws_plus_Uh.shape}\")\n",
        "\n",
        "            \"\"\" softmax(va.tanh(S.Wa + hj.Ua)) \"\"\"\n",
        "            # <= batch_size, en_seq_len\n",
        "            e_i = K.squeeze(K.dot(Ws_plus_Uh, self.V_a), axis=-1)\n",
        "            # <= batch_size, en_seq_len\n",
        "            e_i = K.softmax(e_i)\n",
        "\n",
        "            logger.debug(f\"ei.shape = {e_i.shape}\")\n",
        "\n",
        "            return e_i, [e_i]\n",
        "\n",
        "        def context_step(inputs, states):\n",
        "            \"\"\" Step function for computing ci using ei \"\"\"\n",
        "\n",
        "            logger.debug(\"Running attention vector computation step\")\n",
        "\n",
        "            if not isinstance(states, (list, tuple)):\n",
        "                raise TypeError(f\"States must be an iterable. Got {states} of type {type(states)}\")\n",
        "\n",
        "            encoder_full_seq = states[-1]\n",
        "\n",
        "            # <= batch_size, hidden_size\n",
        "            c_i = K.sum(encoder_full_seq * K.expand_dims(inputs, -1), axis=1)\n",
        "\n",
        "            logger.debug(f\"ci.shape = {c_i.shape}\")\n",
        "\n",
        "            return c_i, [c_i]\n",
        "\n",
        "        # we don't maintain states between steps when computing attention\n",
        "        # attention is stateless, so we're passing a fake state for RNN step function\n",
        "        fake_state_c = K.sum(encoder_out_seq, axis=1)\n",
        "        fake_state_e = K.sum(encoder_out_seq, axis=2)  # <= (batch_size, enc_seq_len, latent_dim\n",
        "\n",
        "        \"\"\" Computing energy outputs \"\"\"\n",
        "        # e_outputs => (batch_size, de_seq_len, en_seq_len)\n",
        "        last_out, e_outputs, _ = K.rnn(\n",
        "            energy_step, decoder_out_seq, [fake_state_e], constants=[encoder_out_seq]\n",
        "        )\n",
        "\n",
        "        \"\"\" Computing context vectors \"\"\"\n",
        "        last_out, c_outputs, _ = K.rnn(\n",
        "            context_step, e_outputs, [fake_state_c], constants=[encoder_out_seq]\n",
        "        )\n",
        "\n",
        "        return c_outputs, e_outputs\n",
        "\n",
        "    def compute_output_shape(self, input_shape):\n",
        "        \"\"\" Outputs produced by the layer \"\"\"\n",
        "        return [\n",
        "            tf.TensorShape((input_shape[1][0], input_shape[1][1], input_shape[1][2])),\n",
        "            tf.TensorShape((input_shape[1][0], input_shape[1][1], input_shape[0][1]))\n",
        "        ]"
      ]
    },
    {
      "cell_type": "code",
      "metadata": {
        "trusted": true,
        "id": "zXef38nBFxir",
        "colab": {
          "base_uri": "https://localhost:8080/"
        },
        "outputId": "9baa854b-62f4-4ef3-f7fb-56f26ae05656"
      },
      "source": [
        "from keras import backend as K \n",
        "K.clear_session()\n",
        "\n",
        "latent_dim = 300\n",
        "embedding_dim=100\n",
        "\n",
        "#Encoder\n",
        "encoder_inputs = Input(shape=(max_text_len,))\n",
        "\n",
        "#embedding layer\n",
        "enc_emb =  Embedding(x_voc, embedding_dim,trainable=True)(encoder_inputs)\n",
        "\n",
        "#encoder lstm 1\n",
        "encoder_lstm1 = LSTM(latent_dim,return_sequences=True,return_state=True,dropout=0.4,recurrent_dropout=0.4)\n",
        "encoder_output1, state_h1, state_c1 = encoder_lstm1(enc_emb)\n",
        "\n",
        "#encoder lstm 2\n",
        "encoder_lstm2 = LSTM(latent_dim,return_sequences=True,return_state=True,dropout=0.4,recurrent_dropout=0.4)\n",
        "encoder_output2, state_h2, state_c2 = encoder_lstm2(encoder_output1)\n",
        "\n",
        "#encoder lstm 3\n",
        "encoder_lstm3=LSTM(latent_dim, return_state=True, return_sequences=True,dropout=0.4,recurrent_dropout=0.4)\n",
        "encoder_outputs, state_h, state_c= encoder_lstm3(encoder_output2)\n",
        "\n",
        "#Setting up the decoder, using `encoder_states` as initial state.\n",
        "decoder_inputs = Input(shape=(None,))\n",
        "\n",
        "#embedding layer\n",
        "dec_emb_layer = Embedding(y_voc, embedding_dim,trainable=True)\n",
        "dec_emb = dec_emb_layer(decoder_inputs)\n",
        "\n",
        "decoder_lstm = LSTM(latent_dim, return_sequences=True, return_state=True,dropout=0.4,recurrent_dropout=0.2)\n",
        "decoder_outputs,decoder_fwd_state, decoder_back_state = decoder_lstm(dec_emb,initial_state=[state_h, state_c])\n",
        "\n",
        "#Attention layer\n",
        "attn_layer = AttentionLayer(name='attention_layer')\n",
        "attn_out, attn_states = attn_layer([encoder_outputs, decoder_outputs])\n",
        "\n",
        "#Concatenating attention input and decoder LSTM output\n",
        "decoder_concat_input = Concatenate(axis=-1, name='concat_layer')([decoder_outputs, attn_out])\n",
        "\n",
        "#dense layer\n",
        "decoder_dense =  TimeDistributed(Dense(y_voc, activation='softmax'))\n",
        "decoder_outputs = decoder_dense(decoder_concat_input)\n",
        "\n",
        "#Defining the model \n",
        "model = Model([encoder_inputs, decoder_inputs], decoder_outputs)\n",
        "\n",
        "model.summary() "
      ],
      "execution_count": null,
      "outputs": [
        {
          "output_type": "stream",
          "name": "stderr",
          "text": [
            "WARNING:tensorflow:Layer lstm will not use cuDNN kernels since it doesn't meet the criteria. It will use a generic GPU kernel as fallback when running on GPU.\n",
            "WARNING:tensorflow:Layer lstm_1 will not use cuDNN kernels since it doesn't meet the criteria. It will use a generic GPU kernel as fallback when running on GPU.\n",
            "WARNING:tensorflow:Layer lstm_2 will not use cuDNN kernels since it doesn't meet the criteria. It will use a generic GPU kernel as fallback when running on GPU.\n",
            "WARNING:tensorflow:Layer lstm_3 will not use cuDNN kernels since it doesn't meet the criteria. It will use a generic GPU kernel as fallback when running on GPU.\n"
          ]
        },
        {
          "output_type": "stream",
          "name": "stdout",
          "text": [
            "Model: \"model\"\n",
            "__________________________________________________________________________________________________\n",
            " Layer (type)                   Output Shape         Param #     Connected to                     \n",
            "==================================================================================================\n",
            " input_1 (InputLayer)           [(None, 30)]         0           []                               \n",
            "                                                                                                  \n",
            " embedding (Embedding)          (None, 30, 100)      1016200     ['input_1[0][0]']                \n",
            "                                                                                                  \n",
            " lstm (LSTM)                    [(None, 30, 300),    481200      ['embedding[0][0]']              \n",
            "                                 (None, 300),                                                     \n",
            "                                 (None, 300)]                                                     \n",
            "                                                                                                  \n",
            " input_2 (InputLayer)           [(None, None)]       0           []                               \n",
            "                                                                                                  \n",
            " lstm_1 (LSTM)                  [(None, 30, 300),    721200      ['lstm[0][0]']                   \n",
            "                                 (None, 300),                                                     \n",
            "                                 (None, 300)]                                                     \n",
            "                                                                                                  \n",
            " embedding_1 (Embedding)        (None, None, 100)    251800      ['input_2[0][0]']                \n",
            "                                                                                                  \n",
            " lstm_2 (LSTM)                  [(None, 30, 300),    721200      ['lstm_1[0][0]']                 \n",
            "                                 (None, 300),                                                     \n",
            "                                 (None, 300)]                                                     \n",
            "                                                                                                  \n",
            " lstm_3 (LSTM)                  [(None, None, 300),  481200      ['embedding_1[0][0]',            \n",
            "                                 (None, 300),                     'lstm_2[0][1]',                 \n",
            "                                 (None, 300)]                     'lstm_2[0][2]']                 \n",
            "                                                                                                  \n",
            " attention_layer (AttentionLaye  ((None, None, 300),  180300     ['lstm_2[0][0]',                 \n",
            " r)                              (None, None, 30))                'lstm_3[0][0]']                 \n",
            "                                                                                                  \n",
            " concat_layer (Concatenate)     (None, None, 600)    0           ['lstm_3[0][0]',                 \n",
            "                                                                  'attention_layer[0][0]']        \n",
            "                                                                                                  \n",
            " time_distributed (TimeDistribu  (None, None, 2518)  1513318     ['concat_layer[0][0]']           \n",
            " ted)                                                                                             \n",
            "                                                                                                  \n",
            "==================================================================================================\n",
            "Total params: 5,366,418\n",
            "Trainable params: 5,366,418\n",
            "Non-trainable params: 0\n",
            "__________________________________________________________________________________________________\n"
          ]
        }
      ]
    },
    {
      "cell_type": "code",
      "metadata": {
        "trusted": true,
        "id": "Lwfi1Fm8Fxiz"
      },
      "source": [
        "model.compile(optimizer='rmsprop', loss='sparse_categorical_crossentropy', metrics=['accuracy'])"
      ],
      "execution_count": null,
      "outputs": []
    },
    {
      "cell_type": "code",
      "metadata": {
        "id": "s-A3J92MUljB"
      },
      "source": [
        "es = EarlyStopping(monitor='val_loss', mode='min', verbose=1,patience=2)"
      ],
      "execution_count": null,
      "outputs": []
    },
    {
      "cell_type": "code",
      "metadata": {
        "trusted": true,
        "id": "ETnPzA4OFxi3",
        "colab": {
          "base_uri": "https://localhost:8080/"
        },
        "outputId": "2fdc4bb2-aed1-4701-e560-5d8892ff9c57"
      },
      "source": [
        "history=model.fit([x_tr,y_tr[:,:-1]], y_tr.reshape(y_tr.shape[0],y_tr.shape[1], 1)[:,1:] ,epochs=50,callbacks=[es],batch_size=128, validation_data=([x_val,y_val[:,:-1]], y_val.reshape(y_val.shape[0],y_val.shape[1], 1)[:,1:]))"
      ],
      "execution_count": null,
      "outputs": [
        {
          "output_type": "stream",
          "name": "stdout",
          "text": [
            "Epoch 1/50\n",
            "472/472 [==============================] - 213s 423ms/step - loss: 2.8166 - accuracy: 0.5749 - val_loss: 2.5674 - val_accuracy: 0.5999\n",
            "Epoch 2/50\n",
            "472/472 [==============================] - 198s 419ms/step - loss: 2.4809 - accuracy: 0.6057 - val_loss: 2.3648 - val_accuracy: 0.6186\n",
            "Epoch 3/50\n",
            "472/472 [==============================] - 197s 417ms/step - loss: 2.3267 - accuracy: 0.6185 - val_loss: 2.2839 - val_accuracy: 0.6247\n",
            "Epoch 4/50\n",
            "472/472 [==============================] - 196s 415ms/step - loss: 2.2413 - accuracy: 0.6266 - val_loss: 2.2193 - val_accuracy: 0.6312\n",
            "Epoch 5/50\n",
            "472/472 [==============================] - 196s 415ms/step - loss: 2.1757 - accuracy: 0.6322 - val_loss: 2.1716 - val_accuracy: 0.6360\n",
            "Epoch 6/50\n",
            "472/472 [==============================] - 194s 412ms/step - loss: 2.1234 - accuracy: 0.6364 - val_loss: 2.1425 - val_accuracy: 0.6388\n",
            "Epoch 7/50\n",
            "472/472 [==============================] - 193s 410ms/step - loss: 2.0785 - accuracy: 0.6401 - val_loss: 2.1153 - val_accuracy: 0.6394\n",
            "Epoch 8/50\n",
            "472/472 [==============================] - 196s 415ms/step - loss: 2.0396 - accuracy: 0.6436 - val_loss: 2.1088 - val_accuracy: 0.6414\n",
            "Epoch 9/50\n",
            "472/472 [==============================] - 194s 411ms/step - loss: 2.0036 - accuracy: 0.6466 - val_loss: 2.0853 - val_accuracy: 0.6441\n",
            "Epoch 10/50\n",
            "472/472 [==============================] - 194s 411ms/step - loss: 1.9738 - accuracy: 0.6493 - val_loss: 2.0740 - val_accuracy: 0.6448\n",
            "Epoch 11/50\n",
            "472/472 [==============================] - 193s 408ms/step - loss: 1.9464 - accuracy: 0.6520 - val_loss: 2.0622 - val_accuracy: 0.6450\n",
            "Epoch 12/50\n",
            "472/472 [==============================] - 193s 409ms/step - loss: 1.9210 - accuracy: 0.6540 - val_loss: 2.0580 - val_accuracy: 0.6479\n",
            "Epoch 13/50\n",
            "472/472 [==============================] - 192s 407ms/step - loss: 1.8952 - accuracy: 0.6565 - val_loss: 2.0475 - val_accuracy: 0.6470\n",
            "Epoch 14/50\n",
            "472/472 [==============================] - 192s 406ms/step - loss: 1.8708 - accuracy: 0.6585 - val_loss: 2.0527 - val_accuracy: 0.6476\n",
            "Epoch 15/50\n",
            "472/472 [==============================] - 195s 413ms/step - loss: 1.8490 - accuracy: 0.6601 - val_loss: 2.0458 - val_accuracy: 0.6482\n",
            "Epoch 16/50\n",
            "472/472 [==============================] - 197s 417ms/step - loss: 1.8274 - accuracy: 0.6626 - val_loss: 2.0437 - val_accuracy: 0.6495\n",
            "Epoch 17/50\n",
            "472/472 [==============================] - 197s 418ms/step - loss: 1.8099 - accuracy: 0.6642 - val_loss: 2.0438 - val_accuracy: 0.6472\n",
            "Epoch 18/50\n",
            "472/472 [==============================] - 195s 413ms/step - loss: 1.7915 - accuracy: 0.6663 - val_loss: 2.0465 - val_accuracy: 0.6470\n",
            "Epoch 18: early stopping\n"
          ]
        }
      ]
    },
    {
      "cell_type": "code",
      "metadata": {
        "trusted": true,
        "id": "tDTNLAURFxjE",
        "colab": {
          "base_uri": "https://localhost:8080/",
          "height": 265
        },
        "outputId": "465bb1c7-b902-418e-9ad2-01482f02a0ba"
      },
      "source": [
        "from matplotlib import pyplot\n",
        "pyplot.plot(history.history['loss'], label='train')\n",
        "pyplot.plot(history.history['val_loss'], label='test')\n",
        "pyplot.legend()\n",
        "pyplot.show()"
      ],
      "execution_count": null,
      "outputs": [
        {
          "output_type": "display_data",
          "data": {
            "text/plain": [
              "<Figure size 432x288 with 1 Axes>"
            ],
            "image/png": "[encoded data removed]"
          },
          "metadata": {
            "needs_background": "light"
          }
        }
      ]
    },
    {
      "cell_type": "code",
      "source": [
        "history.history['accuracy']"
      ],
      "metadata": {
        "id": "B7aCweWlZ-pj",
        "colab": {
          "base_uri": "https://localhost:8080/"
        },
        "outputId": "9fd20a89-c79b-4e85-ba7d-3fbcf1d180d1"
      },
      "execution_count": null,
      "outputs": [
        {
          "output_type": "execute_result",
          "data": {
            "text/plain": [
              "[0.5749418139457703,\n",
              " 0.6057324409484863,\n",
              " 0.6185449361801147,\n",
              " 0.6266391277313232,\n",
              " 0.6321883797645569,\n",
              " 0.6363905668258667,\n",
              " 0.6401144862174988,\n",
              " 0.6436135172843933,\n",
              " 0.6466248631477356,\n",
              " 0.6493237614631653,\n",
              " 0.6519870758056641,\n",
              " 0.6540490984916687,\n",
              " 0.6565207242965698,\n",
              " 0.6584927439689636,\n",
              " 0.6601167917251587,\n",
              " 0.6626452207565308,\n",
              " 0.6641532778739929,\n",
              " 0.6663147211074829]"
            ]
          },
          "metadata": {},
          "execution_count": 40
        }
      ]
    },
    {
      "cell_type": "code",
      "metadata": {
        "trusted": true,
        "id": "sBX0zZnOFxjW"
      },
      "source": [
        "#dictionary to convert the index to word for target and source vocabulary\n",
        "reverse_target_word_index=y_tokenizer.index_word\n",
        "reverse_source_word_index=x_tokenizer.index_word\n",
        "target_word_index=y_tokenizer.word_index"
      ],
      "execution_count": null,
      "outputs": []
    },
    {
      "cell_type": "code",
      "metadata": {
        "trusted": true,
        "id": "9QkrNV-4Fxjt"
      },
      "source": [
        "#Encoding the input sequence to get the feature vector\n",
        "encoder_model = Model(inputs=encoder_inputs,outputs=[encoder_outputs, state_h, state_c])\n",
        "\n",
        "#Decoder setup\n",
        "\n",
        "#Below tensors will hold the states of the previous time step\n",
        "decoder_state_input_h = Input(shape=(latent_dim,))\n",
        "decoder_state_input_c = Input(shape=(latent_dim,))\n",
        "decoder_hidden_state_input = Input(shape=(max_text_len,latent_dim))\n",
        "\n",
        "#Getting the embeddings of the decoder sequence\n",
        "dec_emb2= dec_emb_layer(decoder_inputs) \n",
        "#setting the initial states to the states from the previous time step, to predict the next word in the sequence\n",
        "decoder_outputs2, state_h2, state_c2 = decoder_lstm(dec_emb2, initial_state=[decoder_state_input_h, decoder_state_input_c])\n",
        "\n",
        "#attention inference\n",
        "attn_out_inf, attn_states_inf = attn_layer([decoder_hidden_state_input, decoder_outputs2])\n",
        "decoder_inf_concat = Concatenate(axis=-1, name='concat')([decoder_outputs2, attn_out_inf])\n",
        "\n",
        "#A dense softmax layer to generate prob dist. over the target vocabulary\n",
        "decoder_outputs2 = decoder_dense(decoder_inf_concat) \n",
        "\n",
        "#Final decoder model\n",
        "decoder_model = Model(\n",
        "    [decoder_inputs] + [decoder_hidden_state_input,decoder_state_input_h, decoder_state_input_c],\n",
        "    [decoder_outputs2] + [state_h2, state_c2])"
      ],
      "execution_count": null,
      "outputs": []
    },
    {
      "cell_type": "code",
      "metadata": {
        "trusted": true,
        "id": "6f6TTFnBFxj6"
      },
      "source": [
        "def decode_sequence(input_seq):\n",
        "    #Encoding the input as state vectors.\n",
        "    e_out, e_h, e_c = encoder_model.predict(input_seq)\n",
        "    \n",
        "    #Generating empty target sequence of length 1.\n",
        "    target_seq = np.zeros((1,1))\n",
        "    \n",
        "    #Populating the first word of target sequence with the start word.\n",
        "    target_seq[0, 0] = target_word_index['sostok']\n",
        "\n",
        "    stop_condition = False\n",
        "    decoded_sentence = ''\n",
        "    while not stop_condition:\n",
        "      \n",
        "        output_tokens, h, c = decoder_model.predict([target_seq] + [e_out, e_h, e_c])\n",
        "\n",
        "        #Sample a token\n",
        "        sampled_token_index = np.argmax(output_tokens[0, -1, :])\n",
        "        sampled_token = reverse_target_word_index[sampled_token_index]\n",
        "        \n",
        "        if(sampled_token!='eostok'):\n",
        "            decoded_sentence += ' '+sampled_token\n",
        "\n",
        "        #Exit condition: either hit max length or find stop word.\n",
        "        if (sampled_token == 'eostok'  or len(decoded_sentence.split()) >= (max_summary_len-1)):\n",
        "            stop_condition = True\n",
        "\n",
        "        #Updating the target sequence (of length 1).\n",
        "        target_seq = np.zeros((1,1))\n",
        "        target_seq[0, 0] = sampled_token_index\n",
        "\n",
        "        #Updating internal states\n",
        "        e_h, e_c = h, c\n",
        "\n",
        "    return decoded_sentence"
      ],
      "execution_count": null,
      "outputs": []
    },
    {
      "cell_type": "code",
      "metadata": {
        "trusted": true,
        "id": "aAUntznIFxj9"
      },
      "source": [
        "def seq2summary(input_seq):\n",
        "    newString=''\n",
        "    for i in input_seq:\n",
        "        if((i!=0 and i!=target_word_index['sostok']) and i!=target_word_index['eostok']):\n",
        "            newString=newString+reverse_target_word_index[i]+' '\n",
        "    return newString\n",
        "\n",
        "def seq2text(input_seq):\n",
        "    newString=''\n",
        "    for i in input_seq:\n",
        "        if(i!=0):\n",
        "            newString=newString+reverse_source_word_index[i]+' '\n",
        "    return newString"
      ],
      "execution_count": null,
      "outputs": []
    },
    {
      "cell_type": "code",
      "metadata": {
        "trusted": true,
        "id": "BUtQmQTmFxkI",
        "colab": {
          "base_uri": "https://localhost:8080/"
        },
        "outputId": "b5c89daa-c076-4509-cce3-cf2af18783f5"
      },
      "source": [
        "for i in range(0,100):\n",
        "    print(\"Review:\",seq2text(x_tr[i]))\n",
        "    print(\"Original summary:\",seq2summary(y_tr[i]))\n",
        "    print(\"Predicted summary:\",decode_sequence(x_tr[i].reshape(1,max_text_len)))\n",
        "    print(\"\\n\")"
      ],
      "execution_count": null,
      "outputs": [
        {
          "output_type": "stream",
          "name": "stdout",
          "text": [
            "Review: french salad dressing best could longer find stores happy find purchase online amazon \n",
            "Original summary: thank you amazon \n",
            "1/1 [==============================] - 1s 593ms/step\n",
            "1/1 [==============================] - 0s 397ms/step\n",
            "1/1 [==============================] - 0s 17ms/step\n",
            "1/1 [==============================] - 0s 18ms/step\n",
            "Predicted summary:  best dressing\n",
            "\n",
            "\n",
            "Review: would look experiment others pasta best consistency flavor match regular pasta almost dollar neighborhood health food store order amazon approx minutes great tasting gluten free pasta \n",
            "Original summary: the best gluten free pasta alternative \n",
            "1/1 [==============================] - 0s 48ms/step\n",
            "1/1 [==============================] - 0s 17ms/step\n",
            "1/1 [==============================] - 0s 16ms/step\n",
            "Predicted summary:  pasta\n",
            "\n",
            "\n",
            "Review: expecting nuts mostly gel fact pieces nuts also bit sweet side like go \n",
            "Original summary: more nuts please \n",
            "1/1 [==============================] - 0s 46ms/step\n",
            "1/1 [==============================] - 0s 16ms/step\n",
            "1/1 [==============================] - 0s 18ms/step\n",
            "1/1 [==============================] - 0s 22ms/step\n",
            "Predicted summary:  not bad\n",
            "\n",
            "\n",
            "Review: drinks pretty tasty bit tart side sweet nice current market way sweet beverages trying flavors fo drinks also make good mixing drinks vodka stronger drink \n",
            "Original summary: tart but tasty \n",
            "1/1 [==============================] - 0s 61ms/step\n",
            "1/1 [==============================] - 0s 16ms/step\n",
            "1/1 [==============================] - 0s 18ms/step\n",
            "1/1 [==============================] - 0s 19ms/step\n",
            "1/1 [==============================] - 0s 16ms/step\n",
            "Predicted summary:  great tasting drink\n",
            "\n",
            "\n",
            "Review: whole family loves soup meal table less hour natural soup healthy \n",
            "Original summary: delicious easy to make soup \n",
            "1/1 [==============================] - 0s 48ms/step\n",
            "1/1 [==============================] - 0s 17ms/step\n",
            "1/1 [==============================] - 0s 17ms/step\n",
            "1/1 [==============================] - 0s 17ms/step\n",
            "Predicted summary:  great soup\n",
            "\n",
            "\n",
            "Review: chocolate fresh delicious tastes exactly like ones buy europe love bounty love coconuts definitely satisfy cravings buy seller \n",
            "Original summary: yummy \n",
            "1/1 [==============================] - 0s 48ms/step\n",
            "1/1 [==============================] - 0s 19ms/step\n",
            "1/1 [==============================] - 0s 18ms/step\n",
            "Predicted summary:  delicious\n",
            "\n",
            "\n",
            "Review: husband loves coffee coffee drinks sometimes regular brewed coffee upsets stomach one thing wishes senseo coffee maker would brew hotter cup coffee \n",
            "Original summary: husband favorite coffee \n",
            "1/1 [==============================] - 0s 48ms/step\n",
            "1/1 [==============================] - 0s 16ms/step\n",
            "1/1 [==============================] - 0s 18ms/step\n",
            "1/1 [==============================] - 0s 17ms/step\n",
            "Predicted summary:  great coffee\n",
            "\n",
            "\n",
            "Review: love product cheat snack high sugar still gives quick sugar fix think great blend things yummy downside addicting watching calories serious need serving prior digging \n",
            "Original summary: awesome \n",
            "1/1 [==============================] - 0s 48ms/step\n",
            "1/1 [==============================] - 0s 18ms/step\n",
            "1/1 [==============================] - 0s 19ms/step\n",
            "1/1 [==============================] - 0s 16ms/step\n",
            "Predicted summary:  love these\n",
            "\n",
            "\n",
            "Review: expected nice rich vanilla cappucino flavor instead got weak taste disappointing second grove square product tried \n",
            "Original summary: not much taste \n",
            "1/1 [==============================] - 0s 47ms/step\n",
            "1/1 [==============================] - 0s 18ms/step\n",
            "1/1 [==============================] - 0s 16ms/step\n",
            "1/1 [==============================] - 0s 16ms/step\n",
            "1/1 [==============================] - 0s 16ms/step\n",
            "Predicted summary:  not so good\n",
            "\n",
            "\n",
            "Review: bought several packages wanted try bread also pie crust pie crust made bread mix made great flaky crust pumpkin pie also made bread stuffing sister gluten intolerant bread good also \n",
            "Original summary: great gluten free \n",
            "1/1 [==============================] - 0s 46ms/step\n",
            "1/1 [==============================] - 0s 16ms/step\n",
            "1/1 [==============================] - 0s 21ms/step\n",
            "1/1 [==============================] - 0s 18ms/step\n",
            "1/1 [==============================] - 0s 18ms/step\n",
            "Predicted summary:  bread bread mix\n",
            "\n",
            "\n",
            "Review: kernels small softer traditional white corn great flavor even eaten plain traditional flax oil real salt tarragon optional want savory corn informed cinnamon good \n",
            "Original summary: delicious soft kernels \n",
            "1/1 [==============================] - 0s 47ms/step\n",
            "1/1 [==============================] - 0s 20ms/step\n",
            "1/1 [==============================] - 0s 17ms/step\n",
            "1/1 [==============================] - 0s 16ms/step\n",
            "1/1 [==============================] - 0s 18ms/step\n",
            "Predicted summary:  best olive oil\n",
            "\n",
            "\n",
            "Review: daughter picky would usually eat anything got eat half pouch first time introduced losing battle smell pleasant look appetizing really wanted like looked quite healthy \n",
            "Original summary: they are kind of gross \n",
            "1/1 [==============================] - 0s 48ms/step\n",
            "1/1 [==============================] - 0s 18ms/step\n",
            "1/1 [==============================] - 0s 20ms/step\n",
            "1/1 [==============================] - 0s 17ms/step\n",
            "1/1 [==============================] - 0s 16ms/step\n",
            "1/1 [==============================] - 0s 17ms/step\n",
            "1/1 [==============================] - 0s 18ms/step\n",
            "Predicted summary:  did not work for me\n",
            "\n",
            "\n",
            "Review: bars good feel guilty eating crunchy like nature valley bars natural tasting little brown nature valley bought whole case sorry sure eat expiration date \n",
            "Original summary: healthy yummy \n",
            "1/1 [==============================] - 0s 50ms/step\n",
            "1/1 [==============================] - 0s 18ms/step\n",
            "1/1 [==============================] - 0s 18ms/step\n",
            "1/1 [==============================] - 0s 17ms/step\n",
            "Predicted summary:  great bars\n",
            "\n",
            "\n",
            "Review: ordered sauce amazon pleased arrived nice smoky flavor right amount sweetness used sauce ribs pulled pork would rated stars little less expensive pretty steep hopefully show local grocers shelf soon \n",
            "Original summary: nice and smoky \n",
            "1/1 [==============================] - 0s 50ms/step\n",
            "1/1 [==============================] - 0s 20ms/step\n",
            "1/1 [==============================] - 0s 19ms/step\n",
            "1/1 [==============================] - 0s 19ms/step\n",
            "Predicted summary:  great sauce\n",
            "\n",
            "\n",
            "Review: dog loved first hour later plastic bottle cracked maybe toy kept indoors \n",
            "Original summary: waste of money \n",
            "1/1 [==============================] - 0s 52ms/step\n",
            "1/1 [==============================] - 0s 19ms/step\n",
            "1/1 [==============================] - 0s 17ms/step\n",
            "1/1 [==============================] - 0s 16ms/step\n",
            "Predicted summary:  not for\n",
            "\n",
            "\n",
            "Review: like twinings tea mix try four different flavors box \n",
            "Original summary: good mix of teas \n",
            "1/1 [==============================] - 0s 48ms/step\n",
            "1/1 [==============================] - 0s 17ms/step\n",
            "1/1 [==============================] - 0s 18ms/step\n",
            "1/1 [==============================] - 0s 18ms/step\n",
            "Predicted summary:  good tea\n",
            "\n",
            "\n",
            "Review: bag calories makes perfect snack taste great become staple pantry \n",
            "Original summary: these are great \n",
            "1/1 [==============================] - 0s 46ms/step\n",
            "1/1 [==============================] - 0s 18ms/step\n",
            "1/1 [==============================] - 0s 20ms/step\n",
            "1/1 [==============================] - 0s 19ms/step\n",
            "Predicted summary:  great snack\n",
            "\n",
            "\n",
            "Review: product delivered well packed smell flavor excellant expect product needed arrived priority mail days \n",
            "Original summary: pure maple extract \n",
            "1/1 [==============================] - 0s 50ms/step\n",
            "1/1 [==============================] - 0s 18ms/step\n",
            "1/1 [==============================] - 0s 18ms/step\n",
            "1/1 [==============================] - 0s 19ms/step\n",
            "Predicted summary:  great product\n",
            "\n",
            "\n",
            "Review: get delivered xmas \n",
            "Original summary: great gift \n",
            "1/1 [==============================] - 0s 52ms/step\n",
            "1/1 [==============================] - 0s 19ms/step\n",
            "1/1 [==============================] - 0s 16ms/step\n",
            "1/1 [==============================] - 0s 16ms/step\n",
            "Predicted summary:  great gift\n",
            "\n",
            "\n",
            "Review: give squid one star use might thoroughly disappointed quite possibly call crazy \n",
            "Original summary: can for your \n",
            "1/1 [==============================] - 0s 50ms/step\n",
            "1/1 [==============================] - 0s 17ms/step\n",
            "1/1 [==============================] - 0s 17ms/step\n",
            "1/1 [==============================] - 0s 17ms/step\n",
            "1/1 [==============================] - 0s 17ms/step\n",
            "1/1 [==============================] - 0s 19ms/step\n",
            "Predicted summary:  not what was expecting\n",
            "\n",
            "\n",
            "Review: chicken broth hospital tasted good bought pack amazon product tastes strange totally different hospital found amazon allow returns groceries end bottles idea never buy groceries amazon even tried locally \n",
            "Original summary: not the same taste as expected \n",
            "1/1 [==============================] - 0s 48ms/step\n",
            "1/1 [==============================] - 0s 18ms/step\n",
            "1/1 [==============================] - 0s 18ms/step\n",
            "1/1 [==============================] - 0s 17ms/step\n",
            "1/1 [==============================] - 0s 17ms/step\n",
            "1/1 [==============================] - 0s 18ms/step\n",
            "1/1 [==============================] - 0s 20ms/step\n",
            "Predicted summary:  not the same as advertised\n",
            "\n",
            "\n",
            "Review: two yorkie apso dogs come morning get excited waiting greenie getting one teenie size every morning months teeth breath looking smelling good recommend healthy treat \n",
            "Original summary: yummy greenies \n",
            "1/1 [==============================] - 0s 48ms/step\n",
            "1/1 [==============================] - 0s 17ms/step\n",
            "1/1 [==============================] - 0s 17ms/step\n",
            "Predicted summary:  greenies\n",
            "\n",
            "\n",
            "Review: tried salad taste overpowered salad spicy tried tacos effect greatly diminished resulted passable substitute carry meal taco bell would give going local restaurant home substitute \n",
            "Original summary: does not my bell \n",
            "1/1 [==============================] - 0s 50ms/step\n",
            "1/1 [==============================] - 0s 16ms/step\n",
            "1/1 [==============================] - 0s 16ms/step\n",
            "1/1 [==============================] - 0s 18ms/step\n",
            "1/1 [==============================] - 0s 20ms/step\n",
            "1/1 [==============================] - 0s 19ms/step\n",
            "1/1 [==============================] - 0s 18ms/step\n",
            "Predicted summary:  not the same as the\n",
            "\n",
            "\n",
            "Review: absolutely love chips introduced many friends first time tried large bag ate whole thing \n",
            "Original summary: sweet potato pop chips \n",
            "1/1 [==============================] - 0s 50ms/step\n",
            "1/1 [==============================] - 0s 17ms/step\n",
            "1/1 [==============================] - 0s 18ms/step\n",
            "1/1 [==============================] - 0s 20ms/step\n",
            "1/1 [==============================] - 0s 19ms/step\n",
            "Predicted summary:  best chips ever\n",
            "\n",
            "\n",
            "Review: saffron quality really good comes affordable price small saffron really light weight stuff like cotton really lot \n",
            "Original summary: good saffron at that you can \n",
            "1/1 [==============================] - 0s 47ms/step\n",
            "1/1 [==============================] - 0s 18ms/step\n",
            "1/1 [==============================] - 0s 17ms/step\n",
            "1/1 [==============================] - 0s 17ms/step\n",
            "Predicted summary:  good value\n",
            "\n",
            "\n",
            "Review: product delivered fresh fast say finding somewhere buy peanut chews makes life worth living recommend seller \n",
            "Original summary: peanut chews \n",
            "1/1 [==============================] - 0s 47ms/step\n",
            "1/1 [==============================] - 0s 18ms/step\n",
            "1/1 [==============================] - 0s 21ms/step\n",
            "1/1 [==============================] - 0s 22ms/step\n",
            "Predicted summary:  great product\n",
            "\n",
            "\n",
            "Review: love make kasha stuffed cabbage rolls trouble finding kasha store bought excellent quality price best delivered door \n",
            "Original summary: excellent \n",
            "1/1 [==============================] - 0s 46ms/step\n",
            "1/1 [==============================] - 0s 22ms/step\n",
            "1/1 [==============================] - 0s 19ms/step\n",
            "1/1 [==============================] - 0s 18ms/step\n",
            "Predicted summary:  great product\n",
            "\n",
            "\n",
            "Review: dogs love food thriving ingredients high quality amazon price better anywhere get except sale \n",
            "Original summary: premium dog food \n",
            "1/1 [==============================] - 0s 48ms/step\n",
            "1/1 [==============================] - 0s 16ms/step\n",
            "1/1 [==============================] - 0s 17ms/step\n",
            "1/1 [==============================] - 0s 15ms/step\n",
            "1/1 [==============================] - 0s 18ms/step\n",
            "Predicted summary:  great dog food\n",
            "\n",
            "\n",
            "Review: looking decent replacement teavana eastern beauty oolong discontinued last year perfect great value price mention pretty tin cute little jade teapot charm would definitely buy \n",
            "Original summary: my favorite oolong \n",
            "1/1 [==============================] - 0s 45ms/step\n",
            "1/1 [==============================] - 0s 16ms/step\n",
            "1/1 [==============================] - 0s 15ms/step\n",
            "Predicted summary:  delicious\n",
            "\n",
            "\n",
            "Review: bought keurig system recently tried different coffees one husband enjoy flavour intensity \n",
            "Original summary: great way to start the day \n",
            "1/1 [==============================] - 0s 45ms/step\n",
            "1/1 [==============================] - 0s 18ms/step\n",
            "1/1 [==============================] - 0s 15ms/step\n",
            "1/1 [==============================] - 0s 16ms/step\n",
            "Predicted summary:  great coffee\n",
            "\n",
            "\n",
            "Review: good value dark rich flavor shipping prompt great since completely highly recommend coffee like stronger bitter coffee \n",
            "Original summary: coffee people jet fuel dark roast cup \n",
            "1/1 [==============================] - 0s 48ms/step\n",
            "1/1 [==============================] - 0s 17ms/step\n",
            "1/1 [==============================] - 0s 18ms/step\n",
            "1/1 [==============================] - 0s 17ms/step\n",
            "Predicted summary:  good coffee\n",
            "\n",
            "\n",
            "Review: tea great rich flavor good sweeten anything would recommend anyone would like tea could without sweetners nd batch would trade others believe addition flavor key \n",
            "Original summary: great tea with great flavor \n",
            "1/1 [==============================] - 0s 45ms/step\n",
            "1/1 [==============================] - 0s 18ms/step\n",
            "1/1 [==============================] - 0s 15ms/step\n",
            "1/1 [==============================] - 0s 16ms/step\n",
            "Predicted summary:  great tea\n",
            "\n",
            "\n",
            "Review: chocolates made small batches wisconsin use drive buy good know order amazon piece amazing combination flavors textures particularly enjoy ones molasses called blackstrap let know like \n",
            "Original summary: the best chocolates \n",
            "1/1 [==============================] - 0s 49ms/step\n",
            "1/1 [==============================] - 0s 17ms/step\n",
            "1/1 [==============================] - 0s 18ms/step\n",
            "Predicted summary:  chocolate\n",
            "\n",
            "\n",
            "Review: convenient go grocery store haul baby eats lot really good thing \n",
            "Original summary: just fine \n",
            "1/1 [==============================] - 0s 47ms/step\n",
            "1/1 [==============================] - 0s 16ms/step\n",
            "1/1 [==============================] - 0s 19ms/step\n",
            "1/1 [==============================] - 0s 18ms/step\n",
            "1/1 [==============================] - 0s 21ms/step\n",
            "Predicted summary:  baby loves it\n",
            "\n",
            "\n",
            "Review: great coconut flavor used frying since coconut oil better health use frying olive oil makes better substitute \n",
            "Original summary: nutrition coconut oil \n",
            "1/1 [==============================] - 0s 46ms/step\n",
            "1/1 [==============================] - 0s 17ms/step\n",
            "1/1 [==============================] - 0s 18ms/step\n",
            "1/1 [==============================] - 0s 19ms/step\n",
            "1/1 [==============================] - 0s 17ms/step\n",
            "Predicted summary:  great coconut oil\n",
            "\n",
            "\n",
            "Review: even though item says pack received one called see said amazon put incorrectly seriously refund still wanted item says instead getting trust amazon \n",
            "Original summary: not pieces \n",
            "1/1 [==============================] - 0s 46ms/step\n",
            "1/1 [==============================] - 0s 18ms/step\n",
            "1/1 [==============================] - 0s 17ms/step\n",
            "1/1 [==============================] - 0s 18ms/step\n",
            "1/1 [==============================] - 0s 19ms/step\n",
            "1/1 [==============================] - 0s 17ms/step\n",
            "1/1 [==============================] - 0s 17ms/step\n",
            "Predicted summary:  not the same as advertised\n",
            "\n",
            "\n",
            "Review: love fabulous sweetener nasty chemical aftertaste little bottles perfect size one desk work one purse go restaurants spare one case \n",
            "Original summary: perfect size for work or \n",
            "1/1 [==============================] - 0s 46ms/step\n",
            "1/1 [==============================] - 0s 16ms/step\n",
            "1/1 [==============================] - 0s 15ms/step\n",
            "Predicted summary:  delicious\n",
            "\n",
            "\n",
            "Review: tasted product friend mine loves managed find amazon thanks \n",
            "Original summary: candy for friend \n",
            "1/1 [==============================] - 0s 48ms/step\n",
            "1/1 [==============================] - 0s 18ms/step\n",
            "1/1 [==============================] - 0s 18ms/step\n",
            "1/1 [==============================] - 0s 16ms/step\n",
            "Predicted summary:  great product\n",
            "\n",
            "\n",
            "Review: dogs get excited come home since get greenie treat love taste plus cleans teeth \n",
            "Original summary: dogs \n",
            "1/1 [==============================] - 0s 49ms/step\n",
            "1/1 [==============================] - 0s 22ms/step\n",
            "1/1 [==============================] - 0s 16ms/step\n",
            "1/1 [==============================] - 0s 17ms/step\n",
            "1/1 [==============================] - 0s 18ms/step\n",
            "1/1 [==============================] - 0s 15ms/step\n",
            "Predicted summary:  my dogs love these\n",
            "\n",
            "\n",
            "Review: favorite cup brand flavor far nantucket blend right strong weak medium roast lots aroma taste \n",
            "Original summary: best cup so far \n",
            "1/1 [==============================] - 0s 48ms/step\n",
            "1/1 [==============================] - 0s 16ms/step\n",
            "1/1 [==============================] - 0s 17ms/step\n",
            "1/1 [==============================] - 0s 17ms/step\n",
            "Predicted summary:  great coffee\n",
            "\n",
            "\n",
            "Review: know much calories taking helpful weight control important tastes great \n",
            "Original summary: good price good taste \n",
            "1/1 [==============================] - 0s 47ms/step\n",
            "1/1 [==============================] - 0s 17ms/step\n",
            "1/1 [==============================] - 0s 16ms/step\n",
            "1/1 [==============================] - 0s 21ms/step\n",
            "Predicted summary:  great taste\n",
            "\n",
            "\n",
            "Review: healthy easy kids love travels nicely take everywhere lid screws done messy hands faces \n",
            "Original summary: love it \n",
            "1/1 [==============================] - 0s 48ms/step\n",
            "1/1 [==============================] - 0s 19ms/step\n",
            "1/1 [==============================] - 0s 17ms/step\n",
            "1/1 [==============================] - 0s 16ms/step\n",
            "Predicted summary:  love it\n",
            "\n",
            "\n",
            "Review: perfect solution enjoy growing herbs indoors minimum amount space care also nice want freshly grown herbs home year round \n",
            "Original summary: aerogarden gourmet herb seeds \n",
            "1/1 [==============================] - 0s 49ms/step\n",
            "1/1 [==============================] - 0s 17ms/step\n",
            "1/1 [==============================] - 0s 16ms/step\n",
            "1/1 [==============================] - 0s 17ms/step\n",
            "Predicted summary:  great gift\n",
            "\n",
            "\n",
            "Review: wife smart read directions box helps cause smart husband made water \n",
            "Original summary: use milk \n",
            "1/1 [==============================] - 0s 52ms/step\n",
            "1/1 [==============================] - 0s 17ms/step\n",
            "1/1 [==============================] - 0s 16ms/step\n",
            "1/1 [==============================] - 0s 16ms/step\n",
            "Predicted summary:  great cereal\n",
            "\n",
            "\n",
            "Review: pork rind lovers best hot spicy low fat crunchy \n",
            "Original summary: excellent low fat high flavor \n",
            "1/1 [==============================] - 0s 45ms/step\n",
            "1/1 [==============================] - 0s 16ms/step\n",
            "1/1 [==============================] - 0s 16ms/step\n",
            "Predicted summary:  great\n",
            "\n",
            "\n",
            "Review: product available local stores cost comparable buying local extremely happy find one favorite products \n",
            "Original summary: happy to find \n",
            "1/1 [==============================] - 0s 49ms/step\n",
            "1/1 [==============================] - 0s 19ms/step\n",
            "1/1 [==============================] - 0s 19ms/step\n",
            "1/1 [==============================] - 0s 18ms/step\n",
            "Predicted summary:  great product\n",
            "\n",
            "\n",
            "Review: black tea drinker spoiled taste tea find really difficult drink anything else flavor rich bitter nice cuppa \n",
            "Original summary: the best tea \n",
            "1/1 [==============================] - 0s 46ms/step\n",
            "1/1 [==============================] - 0s 17ms/step\n",
            "1/1 [==============================] - 0s 17ms/step\n",
            "1/1 [==============================] - 0s 19ms/step\n",
            "Predicted summary:  great tea\n",
            "\n",
            "\n",
            "Review: started trying spices sage packed two large plastic jars fine ground find nice eggs baked chicken fill smaller container counter top store rest tasty \n",
            "Original summary: tastey \n",
            "1/1 [==============================] - 0s 48ms/step\n",
            "1/1 [==============================] - 0s 17ms/step\n",
            "1/1 [==============================] - 0s 18ms/step\n",
            "1/1 [==============================] - 0s 17ms/step\n",
            "Predicted summary:  great product\n",
            "\n",
            "\n",
            "Review: tea like slice pumpkin pie without guilt calories smells heavenly delight definitely ordering tea run \n",
            "Original summary: delicious \n",
            "1/1 [==============================] - 0s 48ms/step\n",
            "1/1 [==============================] - 0s 16ms/step\n",
            "1/1 [==============================] - 0s 17ms/step\n",
            "1/1 [==============================] - 0s 17ms/step\n",
            "Predicted summary:  great tea\n",
            "\n",
            "\n",
            "Review: great size price decent compared buying local grocery stores complaint seems lot broken crumbs bottom compared big sized bag yummy \n",
            "Original summary: good price for these yummy chips \n",
            "1/1 [==============================] - 0s 46ms/step\n",
            "1/1 [==============================] - 0s 19ms/step\n",
            "1/1 [==============================] - 0s 17ms/step\n",
            "1/1 [==============================] - 0s 20ms/step\n",
            "Predicted summary:  great deal\n",
            "\n",
            "\n",
            "Review: buy cereal case local store carry best raisin bran raisin eating opinion sweet like great flavor consistency \n",
            "Original summary: the best cereal ever \n",
            "1/1 [==============================] - 0s 45ms/step\n",
            "1/1 [==============================] - 0s 17ms/step\n",
            "1/1 [==============================] - 0s 18ms/step\n",
            "1/1 [==============================] - 0s 17ms/step\n",
            "Predicted summary:  great cereal\n",
            "\n",
            "\n",
            "Review: used able buy cookies locally found long finally saw available amazon bought whole case like two cookies coffee morning get day good start order \n",
            "Original summary: delicious \n",
            "1/1 [==============================] - 0s 45ms/step\n",
            "1/1 [==============================] - 0s 18ms/step\n",
            "1/1 [==============================] - 0s 16ms/step\n",
            "1/1 [==============================] - 0s 16ms/step\n",
            "Predicted summary:  great cookies\n",
            "\n",
            "\n",
            "Review: delicious rich french roasted coffee kcup vacuum sealed bags kcup mesh rather plastic water small hole throughout coffee making much robust taste price reasonable caribou fan love coffee cheaper \n",
            "Original summary: simply the best \n",
            "1/1 [==============================] - 0s 45ms/step\n",
            "1/1 [==============================] - 0s 15ms/step\n",
            "1/1 [==============================] - 0s 18ms/step\n",
            "1/1 [==============================] - 0s 23ms/step\n",
            "1/1 [==============================] - 0s 20ms/step\n",
            "Predicted summary:  grove square cappuccino\n",
            "\n",
            "\n",
            "Review: big train vanilla chai good mixes great unlike instant chai tried hot cold order every month fast reliable shipping \n",
            "Original summary: vanilla chai \n",
            "1/1 [==============================] - 0s 48ms/step\n",
            "1/1 [==============================] - 0s 17ms/step\n",
            "1/1 [==============================] - 0s 16ms/step\n",
            "1/1 [==============================] - 0s 16ms/step\n",
            "Predicted summary:  chai tea\n",
            "\n",
            "\n",
            "Review: really clean dogs teeth used years three months ago cost amazon get real \n",
            "Original summary: teeth \n",
            "1/1 [==============================] - 0s 50ms/step\n",
            "1/1 [==============================] - 0s 20ms/step\n",
            "1/1 [==============================] - 0s 20ms/step\n",
            "1/1 [==============================] - 0s 19ms/step\n",
            "Predicted summary:  great product\n",
            "\n",
            "\n",
            "Review: dog loves bones absolute favorite usually give different bone likes chased around alot one quick chase lays right chow week longer spoil making even special \n",
            "Original summary: greenies \n",
            "1/1 [==============================] - 0s 48ms/step\n",
            "1/1 [==============================] - 0s 17ms/step\n",
            "1/1 [==============================] - 0s 17ms/step\n",
            "1/1 [==============================] - 0s 16ms/step\n",
            "1/1 [==============================] - 0s 16ms/step\n",
            "1/1 [==============================] - 0s 16ms/step\n",
            "Predicted summary:  my dog loves these\n",
            "\n",
            "\n",
            "Review: best yeast market always assured efforts successful outstanding product comes years experience also package arrived quickly perfect condition nice product company rely \n",
            "Original summary: bread yeast \n",
            "1/1 [==============================] - 0s 46ms/step\n",
            "1/1 [==============================] - 0s 17ms/step\n",
            "1/1 [==============================] - 0s 17ms/step\n",
            "1/1 [==============================] - 0s 16ms/step\n",
            "Predicted summary:  great product\n",
            "\n",
            "\n",
            "Review: purchased help fill pinata kids loved liked individually wrapped nice fresh definitely purchase \n",
            "Original summary: perfect for \n",
            "1/1 [==============================] - 0s 47ms/step\n",
            "1/1 [==============================] - 0s 16ms/step\n",
            "1/1 [==============================] - 0s 19ms/step\n",
            "1/1 [==============================] - 0s 17ms/step\n",
            "Predicted summary:  great gift\n",
            "\n",
            "\n",
            "Review: celestial seasonings teas always favorites decaf green teas favorites flavor mild tannic flavorful price good boxes definitely buy \n",
            "Original summary: love this tea \n",
            "1/1 [==============================] - 0s 50ms/step\n",
            "1/1 [==============================] - 0s 17ms/step\n",
            "1/1 [==============================] - 0s 15ms/step\n",
            "1/1 [==============================] - 0s 17ms/step\n",
            "Predicted summary:  great tea\n",
            "\n",
            "\n",
            "Review: highly potent dried chilies spice hound even use sparingly wash hands handling use gloves hot looking \n",
            "Original summary: little goes long way \n",
            "1/1 [==============================] - 0s 46ms/step\n",
            "1/1 [==============================] - 0s 15ms/step\n",
            "1/1 [==============================] - 0s 15ms/step\n",
            "1/1 [==============================] - 0s 17ms/step\n",
            "Predicted summary:  great spice\n",
            "\n",
            "\n",
            "Review: fresh tasty soft buns go well omaha steak burger patties store well \n",
            "Original summary: very fresh and tasty \n",
            "1/1 [==============================] - 0s 48ms/step\n",
            "1/1 [==============================] - 0s 17ms/step\n",
            "1/1 [==============================] - 0s 17ms/step\n",
            "Predicted summary:  delicious\n",
            "\n",
            "\n",
            "Review: glad finally find gluten free soups use many times go make something calls soups cooking gluten free hard sometimes find right thing substitute found \n",
            "Original summary: gluten free soup \n",
            "1/1 [==============================] - 0s 46ms/step\n",
            "1/1 [==============================] - 0s 16ms/step\n",
            "1/1 [==============================] - 0s 16ms/step\n",
            "1/1 [==============================] - 0s 16ms/step\n",
            "Predicted summary:  great pasta\n",
            "\n",
            "\n",
            "Review: excited able find candy looking ages received quickly candy well packaged fresh flavor buy thank \n",
            "Original summary: great product service \n",
            "1/1 [==============================] - 0s 46ms/step\n",
            "1/1 [==============================] - 0s 16ms/step\n",
            "1/1 [==============================] - 0s 16ms/step\n",
            "1/1 [==============================] - 0s 17ms/step\n",
            "Predicted summary:  great candy\n",
            "\n",
            "\n",
            "Review: strong blends finally found coffee like nice aroma taste leave head spinning bad taste like many blends \n",
            "Original summary: my favorite blend \n",
            "1/1 [==============================] - 0s 46ms/step\n",
            "1/1 [==============================] - 0s 17ms/step\n",
            "1/1 [==============================] - 0s 17ms/step\n",
            "1/1 [==============================] - 0s 16ms/step\n",
            "Predicted summary:  nice flavor\n",
            "\n",
            "\n",
            "Review: box meal standard box meals held making meal great putting little extra work cooking seasoning chicken letting stand minutes \n",
            "Original summary: this is the business \n",
            "1/1 [==============================] - 0s 47ms/step\n",
            "1/1 [==============================] - 0s 17ms/step\n",
            "1/1 [==============================] - 0s 22ms/step\n",
            "1/1 [==============================] - 0s 17ms/step\n",
            "Predicted summary:  great for\n",
            "\n",
            "\n",
            "Review: pouches easy take us baby loved leftovers really like come two protein varieties chicken turkey great options easy take \n",
            "Original summary: love these pouches \n",
            "1/1 [==============================] - 0s 47ms/step\n",
            "1/1 [==============================] - 0s 17ms/step\n",
            "1/1 [==============================] - 0s 15ms/step\n",
            "1/1 [==============================] - 0s 16ms/step\n",
            "1/1 [==============================] - 0s 17ms/step\n",
            "Predicted summary:  great for baby\n",
            "\n",
            "\n",
            "Review: get use eating nothing like smell taste like ocean like sesame seed much better whole foods yesterday bought pks spoil mix nuts yumm \n",
            "Original summary: not bad \n",
            "1/1 [==============================] - 0s 47ms/step\n",
            "1/1 [==============================] - 0s 19ms/step\n",
            "1/1 [==============================] - 0s 16ms/step\n",
            "1/1 [==============================] - 0s 15ms/step\n",
            "Predicted summary:  not bad\n",
            "\n",
            "\n",
            "Review: best automatic coffee maker dollar functions identical famous swiss made master features pay never use bottom line produces delicious coffee simple operate maintain \n",
            "Original summary: great coffee maker \n",
            "1/1 [==============================] - 0s 50ms/step\n",
            "1/1 [==============================] - 0s 17ms/step\n",
            "1/1 [==============================] - 0s 18ms/step\n",
            "Predicted summary:  coffee\n",
            "\n",
            "\n",
            "Review: purchased take trip thailand want lot liquids sprays kept ziploc bag safe side problems leaks worked expected used get bit use could ask \n",
            "Original summary: great for traveling \n",
            "1/1 [==============================] - 0s 45ms/step\n",
            "1/1 [==============================] - 0s 15ms/step\n",
            "1/1 [==============================] - 0s 16ms/step\n",
            "1/1 [==============================] - 0s 16ms/step\n",
            "Predicted summary:  great product\n",
            "\n",
            "\n",
            "Review: arrived quickly good condition taste fresh sour really needed saved dollars ordering amazon buying local grocery store last awhile \n",
            "Original summary: sour punch twists \n",
            "1/1 [==============================] - 0s 45ms/step\n",
            "1/1 [==============================] - 0s 18ms/step\n",
            "1/1 [==============================] - 0s 15ms/step\n",
            "1/1 [==============================] - 0s 16ms/step\n",
            "Predicted summary:  great value\n",
            "\n",
            "\n",
            "Review: shipped quickly advertised quality expected works great really like make full cup coffee \n",
            "Original summary: tassimo coffee \n",
            "1/1 [==============================] - 0s 46ms/step\n",
            "1/1 [==============================] - 0s 17ms/step\n",
            "1/1 [==============================] - 0s 18ms/step\n",
            "Predicted summary:  coffee\n",
            "\n",
            "\n",
            "Review: mini dachshund puppy busy loves thing treats really small get use zukes minis however grown drag thing place around try get stuff rarely keeps trying \n",
            "Original summary: fun but not the way \n",
            "1/1 [==============================] - 0s 49ms/step\n",
            "1/1 [==============================] - 0s 17ms/step\n",
            "1/1 [==============================] - 0s 17ms/step\n",
            "1/1 [==============================] - 0s 17ms/step\n",
            "1/1 [==============================] - 0s 16ms/step\n",
            "Predicted summary:  puppy loves it\n",
            "\n",
            "\n",
            "Review: acquired taste works ibs options stomach relief would definately give try \n",
            "Original summary: does the \n",
            "1/1 [==============================] - 0s 48ms/step\n",
            "1/1 [==============================] - 0s 19ms/step\n",
            "1/1 [==============================] - 0s 18ms/step\n",
            "1/1 [==============================] - 0s 17ms/step\n",
            "1/1 [==============================] - 0s 18ms/step\n",
            "1/1 [==============================] - 0s 16ms/step\n",
            "Predicted summary:  my dog loves it\n",
            "\n",
            "\n",
            "Review: weight watchers noodles allow pasta half points like picky pasta may little different different shapes pasta texture al dente like though finish six bags buying \n",
            "Original summary: great for dieters \n",
            "1/1 [==============================] - 0s 46ms/step\n",
            "1/1 [==============================] - 0s 16ms/step\n",
            "1/1 [==============================] - 0s 16ms/step\n",
            "1/1 [==============================] - 0s 16ms/step\n",
            "Predicted summary:  great for\n",
            "\n",
            "\n",
            "Review: originally purchased product local supermarket liked much store longer carried turned internet great non dairy non chemical cream substitute use recipes call cream husband likes much often drinks plain \n",
            "Original summary: delicious non chemical cream substitute \n",
            "1/1 [==============================] - 0s 46ms/step\n",
            "1/1 [==============================] - 0s 18ms/step\n",
            "1/1 [==============================] - 0s 19ms/step\n",
            "Predicted summary:  delicious\n",
            "\n",
            "\n",
            "Review: children love happy baby organics wish selection amazon tried food try everything giving kids taste great highly recommend mom wants children eat organic easy use easy travel healthy \n",
            "Original summary: happy baby organics love them \n",
            "1/1 [==============================] - 0s 48ms/step\n",
            "1/1 [==============================] - 0s 17ms/step\n",
            "1/1 [==============================] - 0s 18ms/step\n",
            "1/1 [==============================] - 0s 16ms/step\n",
            "1/1 [==============================] - 0s 19ms/step\n",
            "Predicted summary:  great for baby\n",
            "\n",
            "\n",
            "Review: use ingredient make goo awesome experiment make goo stretch bounce back like rubber \n",
            "Original summary: excellent for \n",
            "1/1 [==============================] - 0s 52ms/step\n",
            "1/1 [==============================] - 0s 16ms/step\n",
            "1/1 [==============================] - 0s 18ms/step\n",
            "1/1 [==============================] - 0s 17ms/step\n",
            "1/1 [==============================] - 0s 16ms/step\n",
            "Predicted summary:  not what expected\n",
            "\n",
            "\n",
            "Review: easy instructions makes popcorn taste closest movie popcorn came timely buying product \n",
            "Original summary: makes great popcorn \n",
            "1/1 [==============================] - 0s 47ms/step\n",
            "1/1 [==============================] - 0s 17ms/step\n",
            "1/1 [==============================] - 0s 18ms/step\n",
            "1/1 [==============================] - 0s 17ms/step\n",
            "Predicted summary:  great popcorn\n",
            "\n",
            "\n",
            "Review: hardcore tea drinker love strong non bitter full bodied taste yorkshire tea mother tried cannot drink brand tea \n",
            "Original summary: excellent tea \n",
            "1/1 [==============================] - 0s 48ms/step\n",
            "1/1 [==============================] - 0s 15ms/step\n",
            "1/1 [==============================] - 0s 22ms/step\n",
            "1/1 [==============================] - 0s 18ms/step\n",
            "Predicted summary:  great tea\n",
            "\n",
            "\n",
            "Review: love senseo coffee convenient reasonably priced tastes fantastic paris french vanilla quite lovely \n",
            "Original summary: senseo coffe rocks \n",
            "1/1 [==============================] - 0s 45ms/step\n",
            "1/1 [==============================] - 0s 22ms/step\n",
            "1/1 [==============================] - 0s 17ms/step\n",
            "1/1 [==============================] - 0s 17ms/step\n",
            "Predicted summary:  great coffee\n",
            "\n",
            "\n",
            "Review: good basic curry spicy wonderful taste literally add almost everything give earthy flavor great noodles meats even scrambled eggs \n",
            "Original summary: good curry \n",
            "1/1 [==============================] - 0s 47ms/step\n",
            "1/1 [==============================] - 0s 18ms/step\n",
            "1/1 [==============================] - 0s 15ms/step\n",
            "1/1 [==============================] - 0s 18ms/step\n",
            "Predicted summary:  great curry\n",
            "\n",
            "\n",
            "Review: nice cinnamon oat cereal kids love healthy breakfast give lunch extra treat love taste \n",
            "Original summary: cook mama \n",
            "1/1 [==============================] - 0s 45ms/step\n",
            "1/1 [==============================] - 0s 17ms/step\n",
            "1/1 [==============================] - 0s 18ms/step\n",
            "1/1 [==============================] - 0s 16ms/step\n",
            "Predicted summary:  great cereal\n",
            "\n",
            "\n",
            "Review: love product concentrated flavors pack punch however disappointed flavor chai really taste like chai tea still search perfect chai tea concentrate flavors great favorite gingerbread \n",
            "Original summary: chai is so so \n",
            "1/1 [==============================] - 0s 47ms/step\n",
            "1/1 [==============================] - 0s 17ms/step\n",
            "1/1 [==============================] - 0s 16ms/step\n",
            "1/1 [==============================] - 0s 16ms/step\n",
            "Predicted summary:  chai chai\n",
            "\n",
            "\n",
            "Review: freeze dried treats dogs favorite treats spending double price paid local area pet stores arrived promptly well packaged highly recommended \n",
            "Original summary: unbelievable price \n",
            "1/1 [==============================] - 0s 49ms/step\n",
            "1/1 [==============================] - 0s 27ms/step\n",
            "1/1 [==============================] - 0s 16ms/step\n",
            "1/1 [==============================] - 0s 16ms/step\n",
            "Predicted summary:  great deal\n",
            "\n",
            "\n",
            "Review: product great price made food taste good hard time finding product elsewhere \n",
            "Original summary: great product \n",
            "1/1 [==============================] - 0s 52ms/step\n",
            "1/1 [==============================] - 0s 18ms/step\n",
            "1/1 [==============================] - 0s 21ms/step\n",
            "1/1 [==============================] - 0s 16ms/step\n",
            "Predicted summary:  good product\n",
            "\n",
            "\n",
            "Review: quite good sure first ate liked \n",
            "Original summary: addictive \n",
            "1/1 [==============================] - 0s 45ms/step\n",
            "1/1 [==============================] - 0s 16ms/step\n",
            "1/1 [==============================] - 0s 18ms/step\n",
            "1/1 [==============================] - 0s 16ms/step\n",
            "Predicted summary:  good stuff\n",
            "\n",
            "\n",
            "Review: useful giving geriatric dog medications thank much treats \n",
            "Original summary: wonderful idea \n",
            "1/1 [==============================] - 0s 48ms/step\n",
            "1/1 [==============================] - 0s 18ms/step\n",
            "1/1 [==============================] - 0s 20ms/step\n",
            "1/1 [==============================] - 0s 26ms/step\n",
            "Predicted summary:  great gift\n",
            "\n",
            "\n",
            "Review: mom fallen love chips discovered road trip buy bulk arrive every month even grandkids love em \n",
            "Original summary: good price good taste \n",
            "1/1 [==============================] - 0s 63ms/step\n",
            "1/1 [==============================] - 0s 19ms/step\n",
            "1/1 [==============================] - 0s 18ms/step\n",
            "1/1 [==============================] - 0s 20ms/step\n",
            "Predicted summary:  great chips\n",
            "\n",
            "\n",
            "Review: bought hemp oil curiosity came glad would recommend consuming product consistency texture cooking canola oil health benefits product incredible saw several reviews mentioned nutty aftertaste found accurate great purchase \n",
            "Original summary: worth it \n",
            "1/1 [==============================] - 0s 47ms/step\n",
            "1/1 [==============================] - 0s 17ms/step\n",
            "1/1 [==============================] - 0s 17ms/step\n",
            "1/1 [==============================] - 0s 17ms/step\n",
            "Predicted summary:  great oil\n",
            "\n",
            "\n",
            "Review: sparkling water truely best ive far kids love chill water turns slushy wow great flavors really great chilled product hot weather buy \n",
            "Original summary: outstanding \n",
            "1/1 [==============================] - 0s 48ms/step\n",
            "1/1 [==============================] - 0s 18ms/step\n",
            "1/1 [==============================] - 0s 20ms/step\n",
            "1/1 [==============================] - 0s 330ms/step\n",
            "1/1 [==============================] - 0s 19ms/step\n",
            "Predicted summary:  best water ever\n",
            "\n",
            "\n",
            "Review: regular grocery store stopped carrying sauce bought brand replacement terrible simply nothing replace old el sauce thrilled find amazon \n",
            "Original summary: no substitute for this sauce \n",
            "1/1 [==============================] - 0s 51ms/step\n",
            "1/1 [==============================] - 0s 24ms/step\n",
            "1/1 [==============================] - 0s 18ms/step\n",
            "1/1 [==============================] - 0s 16ms/step\n",
            "Predicted summary:  great sauce\n",
            "\n",
            "\n",
            "Review: mother must eat gluten free diet saw item intrigued gluten free products texture followed recipe suggestion bag came delicious one tip cooking serving place wet top noodles keep drying \n",
            "Original summary: great gluten free alternative \n",
            "1/1 [==============================] - 0s 49ms/step\n",
            "1/1 [==============================] - 0s 19ms/step\n",
            "1/1 [==============================] - 0s 17ms/step\n",
            "1/1 [==============================] - 0s 18ms/step\n",
            "1/1 [==============================] - 0s 18ms/step\n",
            "1/1 [==============================] - 0s 18ms/step\n",
            "Predicted summary:  great gluten free cookies\n",
            "\n",
            "\n",
            "Review: cats really love treats pick bag within hearing distance share \n",
            "Original summary: crunchy good \n",
            "1/1 [==============================] - 0s 51ms/step\n",
            "1/1 [==============================] - 0s 17ms/step\n",
            "1/1 [==============================] - 0s 18ms/step\n",
            "1/1 [==============================] - 0s 18ms/step\n",
            "1/1 [==============================] - 0s 18ms/step\n",
            "Predicted summary:  cats love it\n",
            "\n",
            "\n",
            "Review: coffee company delivers great coffee taste like coffee deep robust taste jeremiah always makes glad purchase thanks \n",
            "Original summary: pick great coffee \n",
            "1/1 [==============================] - 0s 50ms/step\n",
            "1/1 [==============================] - 0s 19ms/step\n",
            "1/1 [==============================] - 0s 18ms/step\n",
            "1/1 [==============================] - 0s 20ms/step\n",
            "Predicted summary:  great coffee\n",
            "\n",
            "\n",
            "Review: plant healthy received didnt even gift intended bad looked \n",
            "Original summary: disappointed \n",
            "1/1 [==============================] - 0s 45ms/step\n",
            "1/1 [==============================] - 0s 17ms/step\n",
            "1/1 [==============================] - 0s 22ms/step\n",
            "1/1 [==============================] - 0s 18ms/step\n",
            "1/1 [==============================] - 0s 16ms/step\n",
            "Predicted summary:  not as pictured\n",
            "\n",
            "\n",
            "Review: really like hazelnut flavored creamers find sweet use extract make sugar free creamer works well \n",
            "Original summary: good flavor \n",
            "1/1 [==============================] - 0s 47ms/step\n",
            "1/1 [==============================] - 0s 18ms/step\n",
            "1/1 [==============================] - 0s 17ms/step\n",
            "1/1 [==============================] - 0s 19ms/step\n",
            "Predicted summary:  great flavor\n",
            "\n",
            "\n",
            "Review: bars great taste great healthy filling \n",
            "Original summary: yummy \n",
            "1/1 [==============================] - 0s 46ms/step\n",
            "1/1 [==============================] - 0s 17ms/step\n",
            "1/1 [==============================] - 0s 19ms/step\n",
            "1/1 [==============================] - 0s 16ms/step\n",
            "Predicted summary:  great bars\n",
            "\n",
            "\n",
            "Review: cannot say biscuits made mix taste good regular wheat said us needing gluten free foods bad either \n",
            "Original summary: pretty good \n",
            "1/1 [==============================] - 0s 47ms/step\n",
            "1/1 [==============================] - 0s 16ms/step\n",
            "1/1 [==============================] - 0s 16ms/step\n",
            "1/1 [==============================] - 0s 16ms/step\n",
            "1/1 [==============================] - 0s 18ms/step\n",
            "Predicted summary:  not gluten free\n",
            "\n",
            "\n",
            "Review: cafe escapes milk chocolate hot cocoa much better dark cocoa far exceeds brands find stock buy much stuff like gold increases value taste others \n",
            "Original summary: best single cup hot chocolate have tasted \n",
            "1/1 [==============================] - 0s 46ms/step\n",
            "1/1 [==============================] - 0s 19ms/step\n",
            "1/1 [==============================] - 0s 18ms/step\n",
            "1/1 [==============================] - 0s 16ms/step\n",
            "1/1 [==============================] - 0s 18ms/step\n",
            "1/1 [==============================] - 0s 18ms/step\n",
            "Predicted summary:  hot hot hot hot\n",
            "\n",
            "\n",
            "Review: much flavor remembered previous purchase tea local grocery store could get locally anymore wondering product discontinued old merchandise \n",
            "Original summary: product tasted stale compared to \n",
            "1/1 [==============================] - 0s 51ms/step\n",
            "1/1 [==============================] - 0s 18ms/step\n",
            "1/1 [==============================] - 0s 18ms/step\n",
            "Predicted summary:  tea\n",
            "\n",
            "\n"
          ]
        }
      ]
    }
  ]
}